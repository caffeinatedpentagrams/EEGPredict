{
 "cells": [
  {
   "cell_type": "code",
   "execution_count": 10,
   "metadata": {},
   "outputs": [],
   "source": [
    "# Path for dataset\n",
    "data_path = '/Users/reubenrosenberg/Desktop/nndl_project/data/project/'"
   ]
  },
  {
   "cell_type": "code",
   "execution_count": 12,
   "metadata": {},
   "outputs": [],
   "source": [
    "import numpy as np\n",
    "\n",
    "\n",
    "X_test = np.load(data_path + \"X_test.npy\")\n",
    "y_test = np.load(data_path + \"y_test.npy\")\n",
    "person_train_valid = np.load(data_path + \"person_train_valid.npy\")\n",
    "X_train_valid = np.load(data_path + \"X_train_valid.npy\")\n",
    "y_train_valid = np.load(data_path + \"y_train_valid.npy\")\n",
    "person_test = np.load(data_path + \"person_test.npy\")\n"
   ]
  },
  {
   "cell_type": "code",
   "execution_count": 14,
   "metadata": {},
   "outputs": [
    {
     "name": "stdout",
     "output_type": "stream",
     "text": [
      "X_train_valid shape:  (2115, 22, 1000)\n",
      "y_train_valid shape:  (2115,)\n",
      "person_train_valid shape:  (2115, 1) \n",
      "\n",
      "X_test shape:  (443, 22, 1000)\n",
      "y_test shape:  (443,)\n",
      "person_test shape:  (443, 1)\n"
     ]
    }
   ],
   "source": [
    "# Find Shape of Data\n",
    "\n",
    "print(\"X_train_valid shape: \", X_train_valid.shape)\n",
    "print(\"y_train_valid shape: \", y_train_valid.shape)\n",
    "print(\"person_train_valid shape: \", person_train_valid.shape, '\\n')\n",
    "print(\"X_test shape: \", X_test.shape)\n",
    "print(\"y_test shape: \", y_test.shape)\n",
    "print(\"person_test shape: \", person_test.shape)\n"
   ]
  },
  {
   "cell_type": "markdown",
   "metadata": {},
   "source": []
  }
 ],
 "metadata": {
  "kernelspec": {
   "display_name": "Python 3",
   "language": "python",
   "name": "python3"
  },
  "language_info": {
   "codemirror_mode": {
    "name": "ipython",
    "version": 3
   },
   "file_extension": ".py",
   "mimetype": "text/x-python",
   "name": "python",
   "nbconvert_exporter": "python",
   "pygments_lexer": "ipython3",
   "version": "3.12.0"
  }
 },
 "nbformat": 4,
 "nbformat_minor": 2
}
