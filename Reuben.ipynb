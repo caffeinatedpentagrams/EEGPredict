{
  "cells": [
    {
      "cell_type": "code",
      "execution_count": 2,
      "metadata": {
        "id": "BU-Ol6NeWItg"
      },
      "outputs": [],
      "source": [
        "import matplotlib.pyplot as plt\n",
        "import numpy as np\n",
        "import tensorflow as tf\n",
        "from keras.utils import to_categorical\n"
      ]
    },
    {
      "cell_type": "code",
      "execution_count": null,
      "metadata": {
        "id": "q159dACtWItj"
      },
      "outputs": [],
      "source": [
        "# Path for dataset\n",
        "data_path = '/Users/reubenrosenberg/Desktop/nndl_project/data/project/'"
      ]
    },
    {
      "cell_type": "code",
      "execution_count": 3,
      "metadata": {
        "colab": {
          "base_uri": "https://localhost:8080/"
        },
        "id": "hDcRRN9eWJ4-",
        "outputId": "4d8a8015-9f7d-489c-a1b4-13dfc452794c"
      },
      "outputs": [
        {
          "output_type": "stream",
          "name": "stdout",
          "text": [
            "Mounted at /content/drive\n",
            "/content/drive/MyDrive/Colab_Notebooks/project_data/project\n"
          ]
        }
      ],
      "source": [
        "from google.colab import drive\n",
        "drive.mount('/content/drive')\n",
        "\n",
        "%cd /content/drive/MyDrive/Colab_Notebooks/project_data/project"
      ]
    },
    {
      "cell_type": "code",
      "execution_count": 4,
      "metadata": {
        "id": "nkpdFSlsWItj"
      },
      "outputs": [],
      "source": [
        "import numpy as np\n",
        "\n",
        "\n",
        "X_test = np.load(\"X_test.npy\")\n",
        "y_test = np.load(\"y_test.npy\")\n",
        "person_train_valid = np.load(\"person_train_valid.npy\")\n",
        "X_train_valid = np.load(\"X_train_valid.npy\")\n",
        "y_train_valid = np.load(\"y_train_valid.npy\")\n",
        "person_test = np.load(\"person_test.npy\")\n"
      ]
    },
    {
      "cell_type": "code",
      "execution_count": 5,
      "metadata": {
        "colab": {
          "base_uri": "https://localhost:8080/"
        },
        "id": "D99JppHUWItj",
        "outputId": "df3ed08e-6023-4b34-c4a5-fef8ceee8661"
      },
      "outputs": [
        {
          "output_type": "stream",
          "name": "stdout",
          "text": [
            "X_train_valid shape:  (2115, 22, 1000)\n",
            "y_train_valid shape:  (2115,)\n",
            "person_train_valid shape:  (2115, 1) \n",
            "\n",
            "X_test shape:  (443, 22, 1000)\n",
            "y_test shape:  (443,)\n",
            "person_test shape:  (443, 1)\n"
          ]
        }
      ],
      "source": [
        "# Find Shape of Data\n",
        "\n",
        "print(\"X_train_valid shape: \", X_train_valid.shape)\n",
        "print(\"y_train_valid shape: \", y_train_valid.shape)\n",
        "print(\"person_train_valid shape: \", person_train_valid.shape, '\\n')\n",
        "print(\"X_test shape: \", X_test.shape)\n",
        "print(\"y_test shape: \", y_test.shape)\n",
        "print(\"person_test shape: \", person_test.shape)\n"
      ]
    },
    {
      "cell_type": "code",
      "execution_count": 6,
      "metadata": {
        "id": "k1zaChirWItk"
      },
      "outputs": [],
      "source": [
        "y_train_valid = y_train_valid - 769\n",
        "y_test = y_test - 769\n"
      ]
    },
    {
      "cell_type": "code",
      "execution_count": null,
      "metadata": {
        "colab": {
          "base_uri": "https://localhost:8080/"
        },
        "id": "UIz0q8wSWItk",
        "outputId": "3d776d28-d32e-478c-a9fb-530ed6d89ae8"
      },
      "outputs": [
        {
          "name": "stdout",
          "output_type": "stream",
          "text": [
            "y_train_valid:  [0 1 2 3]\n",
            "y_test:  [0 1 2 3]\n",
            "y_train_valid counts:  {0: 529, 1: 513, 2: 543, 3: 530}\n",
            "y_test counts:  {0: 111, 1: 127, 2: 96, 3: 109}\n"
          ]
        }
      ],
      "source": [
        "# Check values of y\n",
        "print(\"y_train_valid: \", np.unique(y_train_valid))\n",
        "print(\"y_test: \", np.unique(y_test))\n",
        "\n",
        "# Check how many times each class occurs\n",
        "unique, counts = np.unique(y_train_valid, return_counts=True)\n",
        "print(\"y_train_valid counts: \", dict(zip(unique, counts)))\n",
        "unique, counts = np.unique(y_test, return_counts=True)\n",
        "print(\"y_test counts: \", dict(zip(unique, counts)))\n",
        "\n"
      ]
    },
    {
      "cell_type": "code",
      "execution_count": 7,
      "metadata": {
        "colab": {
          "base_uri": "https://localhost:8080/"
        },
        "id": "rTEpBGA1WItl",
        "outputId": "7d9dbdb9-a42a-4d01-a460-c46536f79904"
      },
      "outputs": [
        {
          "output_type": "stream",
          "name": "stdout",
          "text": [
            "num_classes:  4\n"
          ]
        }
      ],
      "source": [
        "num_classes = len(np.unique(y_train_valid))\n",
        "print(\"num_classes: \", num_classes)\n"
      ]
    },
    {
      "cell_type": "markdown",
      "metadata": {
        "id": "sQIAiFVnWItl"
      },
      "source": [
        "# DATA PROCESSING AND SUBSAMPLING FROM DISCUSSION"
      ]
    },
    {
      "cell_type": "code",
      "execution_count": 8,
      "metadata": {
        "colab": {
          "base_uri": "https://localhost:8080/",
          "height": 447
        },
        "id": "VRlor9VUWItn",
        "outputId": "a9ca68d0-5c9e-4634-c660-204aed23e373"
      },
      "outputs": [
        {
          "output_type": "execute_result",
          "data": {
            "text/plain": [
              "<matplotlib.legend.Legend at 0x7e691209bd60>"
            ]
          },
          "metadata": {},
          "execution_count": 8
        },
        {
          "output_type": "display_data",
          "data": {
            "text/plain": [
              "<Figure size 640x480 with 1 Axes>"
            ],
            "image/png": "[encoded data removed]"
          },
          "metadata": {}
        }
      ],
      "source": [
        "\n",
        "## Visualizing the data\n",
        "\n",
        "ch_data = X_train_valid[:,8,:]\n",
        "\n",
        "\n",
        "class_0_ind = np.where(y_train_valid == 0)\n",
        "ch_data_class_0 = ch_data[class_0_ind]\n",
        "avg_ch_data_class_0 = np.mean(ch_data_class_0,axis=0)\n",
        "\n",
        "\n",
        "class_1_ind = np.where(y_train_valid == 1)\n",
        "ch_data_class_1 = ch_data[class_1_ind]\n",
        "avg_ch_data_class_1 = np.mean(ch_data_class_1,axis=0)\n",
        "\n",
        "class_2_ind = np.where(y_train_valid == 2)\n",
        "ch_data_class_2 = ch_data[class_2_ind]\n",
        "avg_ch_data_class_2 = np.mean(ch_data_class_2,axis=0)\n",
        "\n",
        "class_3_ind = np.where(y_train_valid == 3)\n",
        "ch_data_class_3 = ch_data[class_3_ind]\n",
        "avg_ch_data_class_3 = np.mean(ch_data_class_3,axis=0)\n",
        "\n",
        "\n",
        "plt.plot(np.arange(1000),avg_ch_data_class_0)\n",
        "plt.plot(np.arange(1000),avg_ch_data_class_1)\n",
        "plt.plot(np.arange(1000),avg_ch_data_class_2)\n",
        "plt.plot(np.arange(1000),avg_ch_data_class_3)\n",
        "plt.axvline(x=500, label='line at t=500',c='cyan')\n",
        "\n",
        "plt.legend([\"Cue Onset left\", \"Cue Onset right\", \"Cue onset foot\", \"Cue onset tongue\"])"
      ]
    },
    {
      "cell_type": "code",
      "execution_count": 9,
      "metadata": {
        "id": "dMKskjaKWItn"
      },
      "outputs": [],
      "source": [
        "def train_data_prep(X,y,sub_sample,average,noise):\n",
        "\n",
        "    total_X = None\n",
        "    total_y = None\n",
        "\n",
        "    # Trimming the data (sample,22,1000) -> (sample,22,800)\n",
        "    X = X[:,:,0:800]\n",
        "    print('Shape of X after trimming:',X.shape)\n",
        "\n",
        "    # Maxpooling the data (sample,22,800) -> (sample,22,800/sub_sample)\n",
        "    X_max = np.max(X.reshape(X.shape[0], X.shape[1], -1, sub_sample), axis=3)\n",
        "\n",
        "\n",
        "    total_X = X_max\n",
        "    total_y = y\n",
        "    print('Shape of X after maxpooling:',total_X.shape)\n",
        "\n",
        "    # Averaging + noise\n",
        "    X_average = np.mean(X.reshape(X.shape[0], X.shape[1], -1, average),axis=3)\n",
        "    X_average = X_average + np.random.normal(0.0, 0.5, X_average.shape)\n",
        "\n",
        "    total_X = np.vstack((total_X, X_average))\n",
        "    total_y = np.hstack((total_y, y))\n",
        "    print('Shape of X after averaging+noise and concatenating:',total_X.shape)\n",
        "\n",
        "    # Subsampling\n",
        "\n",
        "    for i in range(sub_sample):\n",
        "\n",
        "        X_subsample = X[:, :, i::sub_sample] + \\\n",
        "                            (np.random.normal(0.0, 0.5, X[:, :,i::sub_sample].shape) if noise else 0.0)\n",
        "\n",
        "        total_X = np.vstack((total_X, X_subsample))\n",
        "        total_y = np.hstack((total_y, y))\n",
        "\n",
        "\n",
        "    print('Shape of X after subsampling and concatenating:',total_X.shape)\n",
        "    print('Shape of Y:',total_y.shape)\n",
        "    return total_X,total_y\n",
        "\n",
        "\n",
        "def test_data_prep(X):\n",
        "\n",
        "    total_X = None\n",
        "\n",
        "\n",
        "    # Trimming the data (sample,22,1000) -> (sample,22,800)\n",
        "    X = X[:,:,0:800]\n",
        "    print('Shape of X after trimming:',X.shape)\n",
        "\n",
        "    # Maxpooling the data (sample,22,800) -> (sample,22,800/sub_sample)\n",
        "    X_max = np.max(X.reshape(X.shape[0], X.shape[1], -1, 2), axis=3)\n",
        "\n",
        "\n",
        "    total_X = X_max\n",
        "    print('Shape of X after maxpooling:',total_X.shape)\n",
        "\n",
        "    return total_X\n",
        "\n",
        "\n"
      ]
    },
    {
      "cell_type": "code",
      "execution_count": 10,
      "metadata": {
        "colab": {
          "base_uri": "https://localhost:8080/"
        },
        "id": "o-7kJ9go7dhW",
        "outputId": "56ca2762-d136-44e8-f818-1dbf9a8c7d16"
      },
      "outputs": [
        {
          "output_type": "stream",
          "name": "stdout",
          "text": [
            "Shape of X after trimming: (1859, 22, 800)\n",
            "Shape of X after maxpooling: (1859, 22, 400)\n",
            "Shape of X after averaging+noise and concatenating: (3718, 22, 400)\n",
            "Shape of X after subsampling and concatenating: (7436, 22, 400)\n",
            "Shape of Y: (7436,)\n",
            "Shape of X after trimming: (256, 22, 800)\n",
            "Shape of X after maxpooling: (256, 22, 400)\n",
            "Shape of X after averaging+noise and concatenating: (512, 22, 400)\n",
            "Shape of X after subsampling and concatenating: (1024, 22, 400)\n",
            "Shape of Y: (1024,)\n",
            "Shape of X after trimming: (443, 22, 800)\n",
            "Shape of X after maxpooling: (443, 22, 400)\n",
            "Shape of training set: (7436, 22, 400)\n",
            "Shape of validation set: (1024, 22, 400)\n",
            "Shape of training labels: (7436,)\n",
            "Shape of validation labels: (1024,)\n",
            "Shape of training labels after categorical conversion: (7436, 4)\n",
            "Shape of validation labels after categorical conversion: (1024, 4)\n",
            "Shape of test labels after categorical conversion: (443, 4)\n",
            "Shape of training set after adding width info: (7436, 22, 400, 1)\n",
            "Shape of validation set after adding width info: (1024, 22, 400, 1)\n",
            "Shape of test set after adding width info: (443, 22, 400, 1)\n",
            "Shape of training set after dimension reshaping: (7436, 400, 1, 22)\n",
            "Shape of validation set after dimension reshaping: (1024, 400, 1, 22)\n",
            "Shape of test set after dimension reshaping: (443, 400, 1, 22)\n"
          ]
        }
      ],
      "source": [
        "\n",
        "## Random splitting and reshaping the data\n",
        "\n",
        "# First generating the training and validation indices using random splitting\n",
        "ind_valid = np.random.choice(2115, 256, replace=False)\n",
        "ind_train = np.array(list(set(range(2115)).difference(set(ind_valid))))\n",
        "\n",
        "# Creating the training and validation sets using the generated indices\n",
        "(x_train, x_valid) = X_train_valid[ind_train], X_train_valid[ind_valid]\n",
        "(y_train, y_valid) = y_train_valid[ind_train], y_train_valid[ind_valid]\n",
        "\n",
        "# Preprocessing with above\n",
        "x_train,y_train = train_data_prep(x_train,y_train,2,2,True)\n",
        "x_valid,y_valid = train_data_prep(x_valid,y_valid,2,2,True)\n",
        "X_test_prep = test_data_prep(X_test)\n",
        "\n",
        "print('Shape of training set:',x_train.shape)\n",
        "print('Shape of validation set:',x_valid.shape)\n",
        "print('Shape of training labels:',y_train.shape)\n",
        "print('Shape of validation labels:',y_valid.shape)\n",
        "\n",
        "\n",
        "# Converting the labels to categorical variables for multiclass classification\n",
        "y_train = to_categorical(y_train, 4)\n",
        "y_valid = to_categorical(y_valid, 4)\n",
        "y_test = to_categorical(y_test, 4)\n",
        "print('Shape of training labels after categorical conversion:',y_train.shape)\n",
        "print('Shape of validation labels after categorical conversion:',y_valid.shape)\n",
        "print('Shape of test labels after categorical conversion:',y_test.shape)\n",
        "\n",
        "# Adding width of the segment to be 1\n",
        "x_train = x_train.reshape(x_train.shape[0], x_train.shape[1], x_train.shape[2], 1)\n",
        "x_valid = x_valid.reshape(x_valid.shape[0], x_valid.shape[1], x_train.shape[2], 1)\n",
        "x_test = X_test_prep.reshape(X_test_prep.shape[0], X_test_prep.shape[1], X_test_prep.shape[2], 1)\n",
        "print('Shape of training set after adding width info:',x_train.shape)\n",
        "print('Shape of validation set after adding width info:',x_valid.shape)\n",
        "print('Shape of test set after adding width info:',x_test.shape)\n",
        "\n",
        "\n",
        "# Reshaping the training and validation dataset\n",
        "x_train = np.swapaxes(x_train, 1,3)\n",
        "x_train = np.swapaxes(x_train, 1,2)\n",
        "x_valid = np.swapaxes(x_valid, 1,3)\n",
        "x_valid = np.swapaxes(x_valid, 1,2)\n",
        "x_test = np.swapaxes(x_test, 1,3)\n",
        "x_test = np.swapaxes(x_test, 1,2)\n",
        "print('Shape of training set after dimension reshaping:',x_train.shape)\n",
        "print('Shape of validation set after dimension reshaping:',x_valid.shape)\n",
        "print('Shape of test set after dimension reshaping:',x_test.shape)\n"
      ]
    },
    {
      "cell_type": "markdown",
      "metadata": {
        "id": "n43oLImtWIto"
      },
      "source": [
        "# END DISCUSSION PORTION"
      ]
    },
    {
      "cell_type": "code",
      "execution_count": 11,
      "metadata": {
        "id": "I-HNckWIWIto"
      },
      "outputs": [],
      "source": [
        "\n",
        "import tensorflow as tf\n",
        "from tensorflow import keras\n",
        "from tensorflow.keras import layers\n",
        "from tensorflow.keras import Sequential\n",
        "from tensorflow.keras.layers import Dense\n",
        "from tensorflow.keras.layers import LSTM\n",
        "from keras.layers import Dense, Activation, Flatten,Dropout\n",
        "from keras.layers import Conv2D,LSTM,BatchNormalization,MaxPooling2D,Reshape\n",
        "from keras.utils import to_categorical\n",
        "from tensorflow.keras import regularizers\n",
        "\n",
        "tf.config.run_functions_eagerly(True)\n",
        "\n",
        "\n"
      ]
    },
    {
      "cell_type": "markdown",
      "metadata": {
        "id": "AXFj5dAxWItp"
      },
      "source": [
        "# MODEL 1\n",
        "FC(40) -> LSTM(10) -> FC(40) -> LSTM (10) -> FC(32) -> FC(16) -> FC(8) -> FC(4, softmax)\n"
      ]
    },
    {
      "cell_type": "code",
      "execution_count": 13,
      "metadata": {
        "id": "_eJGD74eWItp",
        "outputId": "5c53d6dc-0326-4cb0-c823-7e240556901a",
        "colab": {
          "base_uri": "https://localhost:8080/"
        }
      },
      "outputs": [
        {
          "output_type": "stream",
          "name": "stdout",
          "text": [
            "Model: \"sequential_1\"\n",
            "_________________________________________________________________\n",
            " Layer (type)                Output Shape              Param #   \n",
            "=================================================================\n",
            " conv2d (Conv2D)             (None, 400, 1, 25)        13775     \n",
            "                                                                 \n",
            " max_pooling2d (MaxPooling2  (None, 134, 1, 25)        0         \n",
            " D)                                                              \n",
            "                                                                 \n",
            " batch_normalization (Batch  (None, 134, 1, 25)        100       \n",
            " Normalization)                                                  \n",
            "                                                                 \n",
            " dropout (Dropout)           (None, 134, 1, 25)        0         \n",
            "                                                                 \n",
            " flatten (Flatten)           (None, 3350)              0         \n",
            "                                                                 \n",
            " dense (Dense)               (None, 40)                134040    \n",
            "                                                                 \n",
            " reshape (Reshape)           (None, 40, 1)             0         \n",
            "                                                                 \n",
            " lstm (LSTM)                 (None, 10)                480       \n",
            "                                                                 \n",
            " dense_1 (Dense)             (None, 32)                352       \n",
            "                                                                 \n",
            " dense_2 (Dense)             (None, 16)                528       \n",
            "                                                                 \n",
            " dense_3 (Dense)             (None, 8)                 136       \n",
            "                                                                 \n",
            " dense_4 (Dense)             (None, 4)                 36        \n",
            "                                                                 \n",
            "=================================================================\n",
            "Total params: 149447 (583.78 KB)\n",
            "Trainable params: 149397 (583.58 KB)\n",
            "Non-trainable params: 50 (200.00 Byte)\n",
            "_________________________________________________________________\n"
          ]
        }
      ],
      "source": [
        "\n",
        "\n",
        "model1 = Sequential()\n",
        "\n",
        "\n",
        "# Conv Block\n",
        "model1.add(Conv2D(filters=25, kernel_size=(5,5), padding='same', activation='elu', input_shape=(400,1,22)))\n",
        "model1.add(MaxPooling2D(pool_size=(3,1), padding='same')) # Read the keras documentation\n",
        "model1.add(BatchNormalization())\n",
        "model1.add(Dropout(0.6))\n",
        "\n",
        "# LSTM\n",
        "model1.add(Flatten()) # Adding a flattening operation to the output of CNN block\n",
        "model1.add(Dense((40))) # FC layer with 100 units\n",
        "model1.add(Reshape((40,1))) # Reshape my output of FC layer so that it's compatible\n",
        "model1.add(LSTM(10, dropout=0.4, recurrent_dropout=0.1, input_shape=(40,1), return_sequences=False))\n",
        "\n",
        "\n",
        "# FC NET\n",
        "model1.add(Dense(32, activation='relu', kernel_regularizer=regularizers.l2(0.01)))\n",
        "model1.add(Dense(16, activation='relu', kernel_regularizer=regularizers.l2(0.01)))\n",
        "model1.add(Dense(8, activation='relu', kernel_regularizer=regularizers.l2(0.01)))\n",
        "# Output layer with Softmax activation\n",
        "model1.add(Dense(4, activation='softmax'))\n",
        "\n",
        "\n",
        "# Compile\n",
        "model1.compile(loss='categorical_crossentropy', optimizer='adam', metrics=['accuracy'])\n",
        "model1.summary()\n"
      ]
    },
    {
      "cell_type": "code",
      "execution_count": null,
      "metadata": {
        "id": "-jVimQlGWItp",
        "outputId": "cf468ce2-efc1-4b8b-a720-4e1f10039ee4",
        "colab": {
          "base_uri": "https://localhost:8080/"
        }
      },
      "outputs": [
        {
          "metadata": {
            "tags": null
          },
          "name": "stdout",
          "output_type": "stream",
          "text": [
            "Epoch 1/30\n"
          ]
        },
        {
          "metadata": {
            "tags": null
          },
          "name": "stderr",
          "output_type": "stream",
          "text": [
            "/usr/local/lib/python3.10/dist-packages/tensorflow/python/data/ops/structured_function.py:258: UserWarning: Even though the `tf.config.experimental_run_functions_eagerly` option is set, this option does not apply to tf.data functions. To force eager execution of tf.data functions, please use `tf.data.experimental.enable_debug_mode()`.\n",
            "  warnings.warn(\n"
          ]
        },
        {
          "output_type": "stream",
          "name": "stdout",
          "text": [
            "117/117 [==============================] - 90s 765ms/step - loss: 1.6918 - accuracy: 0.2726 - val_loss: 1.5604 - val_accuracy: 0.2949\n",
            "Epoch 2/30\n",
            "117/117 [==============================] - 88s 756ms/step - loss: 1.4747 - accuracy: 0.3463 - val_loss: 1.4223 - val_accuracy: 0.3203\n",
            "Epoch 3/30\n",
            "117/117 [==============================] - 90s 766ms/step - loss: 1.3477 - accuracy: 0.3826 - val_loss: 1.3603 - val_accuracy: 0.3545\n",
            "Epoch 4/30\n",
            "117/117 [==============================] - 90s 767ms/step - loss: 1.2853 - accuracy: 0.4022 - val_loss: 1.3473 - val_accuracy: 0.3525\n",
            "Epoch 5/30\n",
            "117/117 [==============================] - 88s 748ms/step - loss: 1.2456 - accuracy: 0.4207 - val_loss: 1.3046 - val_accuracy: 0.3828\n",
            "Epoch 6/30\n",
            "117/117 [==============================] - 85s 724ms/step - loss: 1.1906 - accuracy: 0.4501 - val_loss: 1.2803 - val_accuracy: 0.3809\n",
            "Epoch 7/30\n",
            "117/117 [==============================] - 92s 785ms/step - loss: 1.1683 - accuracy: 0.4720 - val_loss: 1.3088 - val_accuracy: 0.4463\n",
            "Epoch 8/30\n",
            "117/117 [==============================] - 93s 800ms/step - loss: 1.1514 - accuracy: 0.4894 - val_loss: 1.2299 - val_accuracy: 0.4746\n",
            "Epoch 9/30\n",
            "117/117 [==============================] - 87s 740ms/step - loss: 1.1205 - accuracy: 0.5145 - val_loss: 1.2295 - val_accuracy: 0.4707\n",
            "Epoch 10/30\n",
            "117/117 [==============================] - 87s 745ms/step - loss: 1.0794 - accuracy: 0.5405 - val_loss: 1.2743 - val_accuracy: 0.4854\n",
            "Epoch 11/30\n",
            "117/117 [==============================] - 91s 779ms/step - loss: 1.0628 - accuracy: 0.5529 - val_loss: 1.3093 - val_accuracy: 0.4590\n",
            "Epoch 12/30\n",
            "117/117 [==============================] - 85s 726ms/step - loss: 1.0173 - accuracy: 0.5765 - val_loss: 1.2885 - val_accuracy: 0.4736\n",
            "Epoch 13/30\n",
            "117/117 [==============================] - 83s 711ms/step - loss: 0.9843 - accuracy: 0.5947 - val_loss: 1.2579 - val_accuracy: 0.4736\n",
            "Epoch 14/30\n",
            "117/117 [==============================] - 85s 731ms/step - loss: 0.9468 - accuracy: 0.6139 - val_loss: 1.2871 - val_accuracy: 0.4883\n",
            "Epoch 15/30\n",
            "117/117 [==============================] - 86s 738ms/step - loss: 0.9272 - accuracy: 0.6253 - val_loss: 1.3338 - val_accuracy: 0.4688\n",
            "Epoch 16/30\n",
            "  6/117 [>.............................] - ETA: 1:08 - loss: 1.0298 - accuracy: 0.5651"
          ]
        }
      ],
      "source": [
        "# Training the model\n",
        "history = model1.fit(x_train, y_train, epochs=30, batch_size=64, validation_data=(x_valid, y_valid))\n"
      ]
    },
    {
      "cell_type": "code",
      "execution_count": null,
      "metadata": {
        "id": "32H3tzhOWItp",
        "outputId": "14532f5f-e92e-47ec-a645-07583ef4c5f0"
      },
      "outputs": [
        {
          "data": {
            "image/png": "[encoded data removed]",
            "text/plain": [
              "<Figure size 640x480 with 1 Axes>"
            ]
          },
          "metadata": {},
          "output_type": "display_data"
        }
      ],
      "source": [
        "# Plotting\n",
        "plt.plot(history.history['accuracy'], label='accuracy')\n",
        "plt.plot(history.history['val_accuracy'], label = 'val_accuracy')\n",
        "plt.xlabel('Epoch')\n",
        "plt.ylabel('Accuracy')\n",
        "plt.ylim([0, 1])\n",
        "plt.legend(loc='lower right')\n",
        "plt.show()\n",
        "\n"
      ]
    },
    {
      "cell_type": "code",
      "execution_count": null,
      "metadata": {
        "id": "_8vcbJcNWItp",
        "outputId": "25a78af4-438f-475c-9e1c-84fd9cbaa240"
      },
      "outputs": [
        {
          "name": "stdout",
          "output_type": "stream",
          "text": [
            "Test accuracy of model: 0.4108352065086365\n"
          ]
        }
      ],
      "source": [
        "# Evaluate the model on the test set\n",
        "model_score = model1.evaluate(x_test, y_test, verbose=0)\n",
        "print('Test accuracy of model:',model_score[1])\n"
      ]
    },
    {
      "cell_type": "code",
      "execution_count": null,
      "metadata": {
        "colab": {
          "base_uri": "https://localhost:8080/"
        },
        "id": "_H1zlNZfWItp",
        "outputId": "d97b81bf-f0c8-4dc5-b6c9-07db73a7d719"
      },
      "outputs": [
        {
          "name": "stdout",
          "output_type": "stream",
          "text": [
            "x_train shape:  (7460, 400, 1, 22)\n"
          ]
        }
      ],
      "source": [
        "# x_train shape\n",
        "print(\"x_train shape: \", x_train.shape)\n",
        "\n",
        "# Samples, timesteps, features, channels"
      ]
    },
    {
      "cell_type": "markdown",
      "metadata": {
        "id": "93_o5dCMWItz"
      },
      "source": [
        "# MODEL 6 (Basic Conv+LSTM)\n",
        "\n",
        "Train: 0.8240\n",
        "Validation: 0.9220\n",
        "Test: 0.5643340945243835"
      ]
    },
    {
      "cell_type": "code",
      "execution_count": null,
      "metadata": {
        "colab": {
          "base_uri": "https://localhost:8080/"
        },
        "id": "I66pbAG2a4K5",
        "outputId": "04bc3e34-dc47-4754-d717-28648be39346"
      },
      "outputs": [
        {
          "name": "stdout",
          "output_type": "stream",
          "text": [
            "x_train shape:  (7460, 400, 1, 22)\n"
          ]
        }
      ],
      "source": [
        "# x_train shape\n",
        "print(\"x_train shape: \", x_train.shape)\n",
        "\n",
        "# Samples, timesteps, features, channels"
      ]
    },
    {
      "cell_type": "code",
      "execution_count": null,
      "metadata": {
        "id": "S6TCiXLodrLy"
      },
      "outputs": [],
      "source": []
    },
    {
      "cell_type": "code",
      "execution_count": 35,
      "metadata": {
        "colab": {
          "base_uri": "https://localhost:8080/"
        },
        "id": "Puynumeba4K5",
        "outputId": "54dda1b7-707d-414a-a902-87829f350321"
      },
      "outputs": [
        {
          "output_type": "stream",
          "name": "stdout",
          "text": [
            "Model: \"sequential_8\"\n",
            "_________________________________________________________________\n",
            " Layer (type)                Output Shape              Param #   \n",
            "=================================================================\n",
            " conv2d_4 (Conv2D)           (None, 400, 1, 25)        13775     \n",
            "                                                                 \n",
            " max_pooling2d_3 (MaxPoolin  (None, 134, 1, 25)        0         \n",
            " g2D)                                                            \n",
            "                                                                 \n",
            " batch_normalization_14 (Ba  (None, 134, 1, 25)        100       \n",
            " tchNormalization)                                               \n",
            "                                                                 \n",
            " dropout_11 (Dropout)        (None, 134, 1, 25)        0         \n",
            "                                                                 \n",
            " conv2d_5 (Conv2D)           (None, 134, 1, 25)        15650     \n",
            "                                                                 \n",
            " max_pooling2d_4 (MaxPoolin  (None, 45, 1, 25)         0         \n",
            " g2D)                                                            \n",
            "                                                                 \n",
            " batch_normalization_15 (Ba  (None, 45, 1, 25)         100       \n",
            " tchNormalization)                                               \n",
            "                                                                 \n",
            " dropout_12 (Dropout)        (None, 45, 1, 25)         0         \n",
            "                                                                 \n",
            " flatten_5 (Flatten)         (None, 1125)              0         \n",
            "                                                                 \n",
            " dense_14 (Dense)            (None, 40)                45040     \n",
            "                                                                 \n",
            " reshape_1 (Reshape)         (None, 40, 1)             0         \n",
            "                                                                 \n",
            " lstm_1 (LSTM)               (None, 10)                480       \n",
            "                                                                 \n",
            " dense_15 (Dense)            (None, 4)                 44        \n",
            "                                                                 \n",
            "=================================================================\n",
            "Total params: 75189 (293.71 KB)\n",
            "Trainable params: 75089 (293.32 KB)\n",
            "Non-trainable params: 100 (400.00 Byte)\n",
            "_________________________________________________________________\n"
          ]
        }
      ],
      "source": [
        "from tensorflow.keras.layers import LSTM, Dense, Flatten, Reshape, Conv2D, MaxPooling2D, BatchNormalization\n",
        "from tensorflow.keras.models import Sequential\n",
        "from tensorflow.keras.models import Sequential\n",
        "from tensorflow.keras import regularizers\n",
        "\n",
        "# Define the model\n",
        "LSTM_basic = Sequential()\n",
        "\n",
        "# Convolutional Block 1\n",
        "LSTM_basic.add(Conv2D(filters=25, kernel_size=(5,5), padding='same', activation='elu', input_shape=(400,1,22)))\n",
        "LSTM_basic.add(MaxPooling2D(pool_size=(3,1), padding='same')) # Read the keras documentation\n",
        "LSTM_basic.add(BatchNormalization())\n",
        "LSTM_basic.add(Dropout(0.6))\n",
        "\n",
        "# Convolutional Block 2\n",
        "LSTM_basic.add(Conv2D(filters=25, kernel_size=(5,5), padding='same', activation='elu', input_shape=(400,1,22)))\n",
        "LSTM_basic.add(MaxPooling2D(pool_size=(3,1), padding='same')) # Read the keras documentation\n",
        "LSTM_basic.add(BatchNormalization())\n",
        "LSTM_basic.add(Dropout(0.6))\n",
        "\n",
        "\n",
        "# FC + LSTM layer\n",
        "LSTM_basic.add(Flatten()) # Adding a flattening operation to the output of CNN block\n",
        "LSTM_basic.add(Dense((40))) # FC layer with 100 units\n",
        "LSTM_basic.add(Reshape((40,1))) # Reshape my output of FC layer so that it's compatible\n",
        "LSTM_basic.add(LSTM(10, dropout=0.4, recurrent_dropout=0.1, input_shape=(40,1), return_sequences=False))\n",
        "\n",
        "# Output layer with Softmax activation\n",
        "LSTM_basic.add(Dense(4, activation='softmax')) # Output FC layer with softmax activation\n",
        "\n",
        "# Compile the LSTM_basic\n",
        "LSTM_basic.compile(loss='categorical_crossentropy', optimizer='adam', metrics=['accuracy'])\n",
        "\n",
        "# Print the LSTM_basic summary\n",
        "LSTM_basic.summary()\n",
        "\n",
        "\n"
      ]
    },
    {
      "cell_type": "code",
      "execution_count": 36,
      "metadata": {
        "colab": {
          "base_uri": "https://localhost:8080/"
        },
        "id": "A4HyHp3Ya4K5",
        "outputId": "44f574e7-a16c-43c5-ae1f-933bb487d486"
      },
      "outputs": [
        {
          "output_type": "stream",
          "name": "stdout",
          "text": [
            "Epoch 1/30\n",
            "117/117 [==============================] - 29s 201ms/step - loss: 1.3854 - accuracy: 0.2491 - val_loss: 1.3739 - val_accuracy: 0.2910\n",
            "Epoch 2/30\n",
            "117/117 [==============================] - 25s 211ms/step - loss: 1.3454 - accuracy: 0.3326 - val_loss: 1.2936 - val_accuracy: 0.3691\n",
            "Epoch 3/30\n",
            "117/117 [==============================] - 25s 217ms/step - loss: 1.2608 - accuracy: 0.4143 - val_loss: 1.1937 - val_accuracy: 0.4502\n",
            "Epoch 4/30\n",
            "117/117 [==============================] - 27s 229ms/step - loss: 1.1922 - accuracy: 0.4617 - val_loss: 1.1530 - val_accuracy: 0.4854\n",
            "Epoch 5/30\n",
            "117/117 [==============================] - 24s 208ms/step - loss: 1.1536 - accuracy: 0.4861 - val_loss: 1.1320 - val_accuracy: 0.4932\n",
            "Epoch 6/30\n",
            "117/117 [==============================] - 25s 210ms/step - loss: 1.1112 - accuracy: 0.5109 - val_loss: 1.1252 - val_accuracy: 0.4873\n",
            "Epoch 7/30\n",
            "117/117 [==============================] - 25s 212ms/step - loss: 1.0967 - accuracy: 0.5148 - val_loss: 1.0908 - val_accuracy: 0.5088\n",
            "Epoch 8/30\n",
            "117/117 [==============================] - 24s 204ms/step - loss: 1.0743 - accuracy: 0.5293 - val_loss: 1.0879 - val_accuracy: 0.5078\n",
            "Epoch 9/30\n",
            "117/117 [==============================] - 23s 196ms/step - loss: 1.0471 - accuracy: 0.5343 - val_loss: 1.1210 - val_accuracy: 0.4766\n",
            "Epoch 10/30\n",
            "117/117 [==============================] - 23s 196ms/step - loss: 1.0358 - accuracy: 0.5460 - val_loss: 1.0571 - val_accuracy: 0.5166\n",
            "Epoch 11/30\n",
            "117/117 [==============================] - 23s 200ms/step - loss: 1.0217 - accuracy: 0.5460 - val_loss: 1.0502 - val_accuracy: 0.5332\n",
            "Epoch 12/30\n",
            "117/117 [==============================] - 24s 202ms/step - loss: 1.0099 - accuracy: 0.5543 - val_loss: 1.0431 - val_accuracy: 0.5322\n",
            "Epoch 13/30\n",
            "117/117 [==============================] - 25s 212ms/step - loss: 0.9997 - accuracy: 0.5624 - val_loss: 1.0508 - val_accuracy: 0.5215\n",
            "Epoch 14/30\n",
            "117/117 [==============================] - 23s 199ms/step - loss: 0.9865 - accuracy: 0.5698 - val_loss: 1.0396 - val_accuracy: 0.5332\n",
            "Epoch 15/30\n",
            "117/117 [==============================] - 23s 198ms/step - loss: 0.9704 - accuracy: 0.5793 - val_loss: 1.0389 - val_accuracy: 0.5400\n",
            "Epoch 16/30\n",
            "117/117 [==============================] - 23s 194ms/step - loss: 0.9545 - accuracy: 0.5845 - val_loss: 1.0399 - val_accuracy: 0.5547\n",
            "Epoch 17/30\n",
            "117/117 [==============================] - 22s 188ms/step - loss: 0.9407 - accuracy: 0.6001 - val_loss: 1.0367 - val_accuracy: 0.5479\n",
            "Epoch 18/30\n",
            "117/117 [==============================] - 23s 196ms/step - loss: 0.9387 - accuracy: 0.5960 - val_loss: 1.0355 - val_accuracy: 0.5439\n",
            "Epoch 19/30\n",
            "117/117 [==============================] - 23s 196ms/step - loss: 0.9252 - accuracy: 0.6061 - val_loss: 1.0457 - val_accuracy: 0.5508\n",
            "Epoch 20/30\n",
            "117/117 [==============================] - 22s 188ms/step - loss: 0.9110 - accuracy: 0.6147 - val_loss: 1.0493 - val_accuracy: 0.5488\n",
            "Epoch 21/30\n",
            "117/117 [==============================] - 25s 213ms/step - loss: 0.9071 - accuracy: 0.6186 - val_loss: 1.0540 - val_accuracy: 0.5488\n",
            "Epoch 22/30\n",
            "117/117 [==============================] - 24s 201ms/step - loss: 0.8936 - accuracy: 0.6212 - val_loss: 1.0491 - val_accuracy: 0.5762\n",
            "Epoch 23/30\n",
            "117/117 [==============================] - 23s 195ms/step - loss: 0.8839 - accuracy: 0.6356 - val_loss: 1.0164 - val_accuracy: 0.5918\n",
            "Epoch 24/30\n",
            "117/117 [==============================] - 25s 211ms/step - loss: 0.8755 - accuracy: 0.6353 - val_loss: 1.0239 - val_accuracy: 0.5859\n",
            "Epoch 25/30\n",
            "117/117 [==============================] - 24s 209ms/step - loss: 0.8629 - accuracy: 0.6423 - val_loss: 0.9769 - val_accuracy: 0.5908\n",
            "Epoch 26/30\n",
            "117/117 [==============================] - 24s 202ms/step - loss: 0.8595 - accuracy: 0.6425 - val_loss: 1.0248 - val_accuracy: 0.6006\n",
            "Epoch 27/30\n",
            "117/117 [==============================] - 22s 189ms/step - loss: 0.8537 - accuracy: 0.6432 - val_loss: 1.0068 - val_accuracy: 0.6084\n",
            "Epoch 28/30\n",
            "117/117 [==============================] - 24s 207ms/step - loss: 0.8260 - accuracy: 0.6657 - val_loss: 1.0296 - val_accuracy: 0.5957\n",
            "Epoch 29/30\n",
            "117/117 [==============================] - 24s 206ms/step - loss: 0.8284 - accuracy: 0.6607 - val_loss: 1.0303 - val_accuracy: 0.6211\n",
            "Epoch 30/30\n",
            "117/117 [==============================] - 26s 219ms/step - loss: 0.8174 - accuracy: 0.6689 - val_loss: 1.0291 - val_accuracy: 0.6113\n"
          ]
        }
      ],
      "source": [
        "# Training the LSTM_basic\n",
        "model6_history = LSTM_basic.fit(x_train, y_train, epochs=30, batch_size=64, validation_data=(x_valid, y_valid))\n"
      ]
    },
    {
      "cell_type": "code",
      "execution_count": 33,
      "metadata": {
        "colab": {
          "base_uri": "https://localhost:8080/",
          "height": 455
        },
        "id": "eeMpfppfa4K5",
        "outputId": "557bd81e-201f-4c90-fdbf-6974d8db5d49"
      },
      "outputs": [
        {
          "output_type": "display_data",
          "data": {
            "text/plain": [
              "<Figure size 640x480 with 1 Axes>"
            ],
            "image/png": "[encoded data removed]"
          },
          "metadata": {}
        }
      ],
      "source": [
        "# Plotting\n",
        "plt.plot(model6_history.history['accuracy'], label='accuracy')\n",
        "plt.plot(model6_history.history['val_accuracy'], label = 'val_accuracy')\n",
        "plt.xlabel('Epoch')\n",
        "plt.ylabel('Accuracy')\n",
        "plt.ylim([0, 1])\n",
        "plt.legend(loc='lower right')\n",
        "plt.show()\n",
        "\n"
      ]
    },
    {
      "cell_type": "code",
      "execution_count": 34,
      "metadata": {
        "colab": {
          "base_uri": "https://localhost:8080/"
        },
        "id": "KbR0map3a4K6",
        "outputId": "2fd8715c-e76b-4a1c-b8ff-f2f90e6019d8"
      },
      "outputs": [
        {
          "output_type": "stream",
          "name": "stdout",
          "text": [
            "Test accuracy of LSTM_basic: 0.51241534948349\n"
          ]
        }
      ],
      "source": [
        "from re import L\n",
        "# Evaluate the LSTM_basic on the test set\n",
        "LSTM_basic_score = LSTM_basic.evaluate(x_test, y_test, verbose=0)\n",
        "print('Test accuracy of LSTM_basic:',LSTM_basic_score[1])\n"
      ]
    },
    {
      "cell_type": "markdown",
      "metadata": {
        "id": "qdR9JXtiiNLd"
      },
      "source": [
        "# MODEL 7 (1d Convolutional)\n",
        "Using the paper here:\n",
        "\n",
        "https://iopscience.iop.org/article/10.1088/1741-2552/ac4430/meta\n",
        "\n",
        "Which is shown to be able to achieve >99% accuracy on EEG sequence classification. We implement a similar network.\n",
        "\n",
        "__30 Epochs__:<br>\n",
        "Train: 0.55\n",
        "\n",
        "Validation: 0.53\n",
        "\n",
        "Test: 0.51\n",
        "\n"
      ]
    },
    {
      "cell_type": "code",
      "execution_count": 25,
      "metadata": {
        "colab": {
          "base_uri": "https://localhost:8080/"
        },
        "id": "t-HOktlVk4nA",
        "outputId": "cb661292-3996-4795-c5cd-7b949c8954e3"
      },
      "outputs": [
        {
          "output_type": "stream",
          "name": "stdout",
          "text": [
            "Model: \"sequential_4\"\n",
            "_________________________________________________________________\n",
            " Layer (type)                Output Shape              Param #   \n",
            "=================================================================\n",
            " conv1d_13 (Conv1D)          (None, 386, 32)           10592     \n",
            "                                                                 \n",
            " average_pooling1d_10 (Aver  (None, 193, 32)           0         \n",
            " agePooling1D)                                                   \n",
            "                                                                 \n",
            " batch_normalization_8 (Bat  (None, 193, 32)           128       \n",
            " chNormalization)                                                \n",
            "                                                                 \n",
            " spatial_dropout1d_10 (Spat  (None, 193, 32)           0         \n",
            " ialDropout1D)                                                   \n",
            "                                                                 \n",
            " conv1d_14 (Conv1D)          (None, 179, 32)           15392     \n",
            "                                                                 \n",
            " average_pooling1d_11 (Aver  (None, 89, 32)            0         \n",
            " agePooling1D)                                                   \n",
            "                                                                 \n",
            " batch_normalization_9 (Bat  (None, 89, 32)            128       \n",
            " chNormalization)                                                \n",
            "                                                                 \n",
            " spatial_dropout1d_11 (Spat  (None, 89, 32)            0         \n",
            " ialDropout1D)                                                   \n",
            "                                                                 \n",
            " conv1d_15 (Conv1D)          (None, 86, 32)            4128      \n",
            "                                                                 \n",
            " average_pooling1d_12 (Aver  (None, 43, 32)            0         \n",
            " agePooling1D)                                                   \n",
            "                                                                 \n",
            " batch_normalization_10 (Ba  (None, 43, 32)            128       \n",
            " tchNormalization)                                               \n",
            "                                                                 \n",
            " spatial_dropout1d_12 (Spat  (None, 43, 32)            0         \n",
            " ialDropout1D)                                                   \n",
            "                                                                 \n",
            " average_pooling1d_13 (Aver  (None, 21, 32)            0         \n",
            " agePooling1D)                                                   \n",
            "                                                                 \n",
            " conv1d_16 (Conv1D)          (None, 18, 32)            4128      \n",
            "                                                                 \n",
            " spatial_dropout1d_13 (Spat  (None, 18, 32)            0         \n",
            " ialDropout1D)                                                   \n",
            "                                                                 \n",
            " flatten_3 (Flatten)         (None, 576)               0         \n",
            "                                                                 \n",
            " dense_9 (Dense)             (None, 128)               73856     \n",
            "                                                                 \n",
            " dropout_6 (Dropout)         (None, 128)               0         \n",
            "                                                                 \n",
            " dense_10 (Dense)            (None, 32)                4128      \n",
            "                                                                 \n",
            " dropout_7 (Dropout)         (None, 32)                0         \n",
            "                                                                 \n",
            " dense_11 (Dense)            (None, 4)                 132       \n",
            "                                                                 \n",
            "=================================================================\n",
            "Total params: 112740 (440.39 KB)\n",
            "Trainable params: 112548 (439.64 KB)\n",
            "Non-trainable params: 192 (768.00 Byte)\n",
            "_________________________________________________________________\n"
          ]
        }
      ],
      "source": [
        "from tensorflow.keras.models import Sequential\n",
        "from tensorflow.keras.layers import Conv1D, BatchNormalization, SpatialDropout1D, AveragePooling1D, Flatten, Dense, Dropout\n",
        "from tensorflow.keras import regularizers\n",
        "DConv_model = Sequential()\n",
        "\n",
        "# 1D Convolutional Block 1\n",
        "DConv_model.add(Conv1D(filters=32, kernel_size=15, activation='relu', input_shape=(400,22), kernel_regularizer=regularizers.l2(0.01)))\n",
        "DConv_model.add(AveragePooling1D(pool_size=2))\n",
        "DConv_model.add(BatchNormalization())\n",
        "DConv_model.add(SpatialDropout1D(rate=0.4))\n",
        "\n",
        "\n",
        "# 1D Convolutional Block 2\n",
        "DConv_model.add(Conv1D(filters=32, kernel_size=15, activation='relu', kernel_regularizer=regularizers.l2(0.02)))\n",
        "DConv_model.add(AveragePooling1D(pool_size=2))\n",
        "DConv_model.add(BatchNormalization())\n",
        "DConv_model.add(SpatialDropout1D(rate=0.2))\n",
        "\n",
        "# 1D Convolutional Block 3\n",
        "DConv_model.add(Conv1D(filters=32, kernel_size=4, activation='relu', kernel_regularizer=regularizers.l2(0.02)))\n",
        "DConv_model.add(AveragePooling1D(pool_size=2))\n",
        "DConv_model.add(BatchNormalization())\n",
        "DConv_model.add(SpatialDropout1D(rate=0.2))\n",
        "\n",
        "# Average Pooling 1D\n",
        "DConv_model.add(AveragePooling1D(pool_size=2))\n",
        "\n",
        "# 1D Convolutional Block 4\n",
        "DConv_model.add(Conv1D(filters=32, kernel_size=4, activation='relu', kernel_regularizer=regularizers.l2(0.02)))\n",
        "DConv_model.add(SpatialDropout1D(rate=0.2))\n",
        "\n",
        "# Flatten the output\n",
        "DConv_model.add(Flatten())\n",
        "\n",
        "# Fully Connected (FC) layers\n",
        "DConv_model.add(Dense(units=128, activation='relu', kernel_regularizer=regularizers.l2(0.01)))\n",
        "DConv_model.add(Dropout(rate=0.5))\n",
        "DConv_model.add(Dense(units=32, activation='relu', kernel_regularizer=regularizers.l2(0.01)))\n",
        "DConv_model.add(Dropout(rate=0.5))\n",
        "DConv_model.add(Dense(units=4, activation='softmax'))\n",
        "\n",
        "# Compile the 1DConv_model\n",
        "DConv_model.compile(loss='categorical_crossentropy', optimizer='adam', metrics=['accuracy'])\n",
        "\n",
        "# Print 1DConv_model summary\n",
        "DConv_model.summary()\n",
        "\n",
        "\n"
      ]
    },
    {
      "cell_type": "code",
      "execution_count": 20,
      "metadata": {
        "colab": {
          "base_uri": "https://localhost:8080/"
        },
        "id": "4a3p9pvgn8F1",
        "outputId": "f5e2658a-b5d8-4cf8-f2f2-a398a44c67b3"
      },
      "outputs": [
        {
          "output_type": "stream",
          "name": "stdout",
          "text": [
            "(7436, 400, 22)\n",
            "(1024, 400, 22)\n",
            "(443, 400, 22)\n"
          ]
        }
      ],
      "source": [
        "x_train_1d = x_train[:, :, 0, :]\n",
        "print(x_train_1d.shape)\n",
        "\n",
        "x_valid_1d = x_valid[:, :, 0, :]\n",
        "print(x_valid_1d.shape)\n",
        "\n",
        "x_test_1d = x_test[:, :, 0, :]\n",
        "print(x_test_1d.shape)"
      ]
    },
    {
      "cell_type": "code",
      "execution_count": 26,
      "metadata": {
        "colab": {
          "base_uri": "https://localhost:8080/"
        },
        "id": "F_Vgwvczk4nH",
        "outputId": "330568e3-5a39-4960-9136-af5af3271ade"
      },
      "outputs": [
        {
          "output_type": "stream",
          "name": "stdout",
          "text": [
            "Epoch 1/60\n",
            "117/117 [==============================] - 17s 121ms/step - loss: 5.0772 - accuracy: 0.2531 - val_loss: 3.8280 - val_accuracy: 0.2139\n",
            "Epoch 2/60\n",
            "117/117 [==============================] - 13s 114ms/step - loss: 3.0157 - accuracy: 0.2786 - val_loss: 2.3750 - val_accuracy: 0.2754\n",
            "Epoch 3/60\n",
            "117/117 [==============================] - 14s 121ms/step - loss: 1.9949 - accuracy: 0.3568 - val_loss: 1.7511 - val_accuracy: 0.3867\n",
            "Epoch 4/60\n",
            "117/117 [==============================] - 14s 118ms/step - loss: 1.5756 - accuracy: 0.4162 - val_loss: 1.4710 - val_accuracy: 0.4297\n",
            "Epoch 5/60\n",
            "117/117 [==============================] - 14s 119ms/step - loss: 1.4267 - accuracy: 0.4336 - val_loss: 1.3532 - val_accuracy: 0.4502\n",
            "Epoch 6/60\n",
            "117/117 [==============================] - 14s 119ms/step - loss: 1.3679 - accuracy: 0.4402 - val_loss: 1.3256 - val_accuracy: 0.4297\n",
            "Epoch 7/60\n",
            "117/117 [==============================] - 14s 122ms/step - loss: 1.3486 - accuracy: 0.4415 - val_loss: 1.3118 - val_accuracy: 0.4365\n",
            "Epoch 8/60\n",
            "117/117 [==============================] - 14s 121ms/step - loss: 1.3321 - accuracy: 0.4393 - val_loss: 1.2945 - val_accuracy: 0.4688\n",
            "Epoch 9/60\n",
            "117/117 [==============================] - 14s 120ms/step - loss: 1.3193 - accuracy: 0.4462 - val_loss: 1.3070 - val_accuracy: 0.4414\n",
            "Epoch 10/60\n",
            "117/117 [==============================] - 16s 134ms/step - loss: 1.3072 - accuracy: 0.4650 - val_loss: 1.2788 - val_accuracy: 0.4551\n",
            "Epoch 11/60\n",
            "117/117 [==============================] - 14s 121ms/step - loss: 1.3174 - accuracy: 0.4710 - val_loss: 1.3133 - val_accuracy: 0.4531\n",
            "Epoch 12/60\n",
            "117/117 [==============================] - 14s 117ms/step - loss: 1.3066 - accuracy: 0.4750 - val_loss: 1.3048 - val_accuracy: 0.4395\n",
            "Epoch 13/60\n",
            "117/117 [==============================] - 14s 119ms/step - loss: 1.2994 - accuracy: 0.4720 - val_loss: 1.3274 - val_accuracy: 0.4248\n",
            "Epoch 14/60\n",
            "117/117 [==============================] - 14s 117ms/step - loss: 1.3043 - accuracy: 0.4742 - val_loss: 1.2687 - val_accuracy: 0.4658\n",
            "Epoch 15/60\n",
            "117/117 [==============================] - 14s 119ms/step - loss: 1.2964 - accuracy: 0.4833 - val_loss: 1.2388 - val_accuracy: 0.4883\n",
            "Epoch 16/60\n",
            "117/117 [==============================] - 14s 121ms/step - loss: 1.2990 - accuracy: 0.4903 - val_loss: 1.2576 - val_accuracy: 0.4824\n",
            "Epoch 17/60\n",
            "117/117 [==============================] - 14s 121ms/step - loss: 1.3005 - accuracy: 0.4825 - val_loss: 1.2742 - val_accuracy: 0.4873\n",
            "Epoch 18/60\n",
            "117/117 [==============================] - 14s 118ms/step - loss: 1.2777 - accuracy: 0.4995 - val_loss: 1.2721 - val_accuracy: 0.4600\n",
            "Epoch 19/60\n",
            "117/117 [==============================] - 14s 120ms/step - loss: 1.2793 - accuracy: 0.5001 - val_loss: 1.2629 - val_accuracy: 0.4521\n",
            "Epoch 20/60\n",
            "117/117 [==============================] - 14s 117ms/step - loss: 1.2838 - accuracy: 0.4915 - val_loss: 1.3536 - val_accuracy: 0.4346\n",
            "Epoch 21/60\n",
            "117/117 [==============================] - 14s 122ms/step - loss: 1.2968 - accuracy: 0.4934 - val_loss: 1.2592 - val_accuracy: 0.4932\n",
            "Epoch 22/60\n",
            "117/117 [==============================] - 14s 121ms/step - loss: 1.2822 - accuracy: 0.5046 - val_loss: 1.2739 - val_accuracy: 0.4697\n",
            "Epoch 23/60\n",
            "117/117 [==============================] - 15s 128ms/step - loss: 1.2808 - accuracy: 0.4984 - val_loss: 1.2756 - val_accuracy: 0.5000\n",
            "Epoch 24/60\n",
            "117/117 [==============================] - 14s 121ms/step - loss: 1.2882 - accuracy: 0.4989 - val_loss: 1.2784 - val_accuracy: 0.4766\n",
            "Epoch 25/60\n",
            "117/117 [==============================] - 17s 146ms/step - loss: 1.2726 - accuracy: 0.5040 - val_loss: 1.2542 - val_accuracy: 0.4873\n",
            "Epoch 26/60\n",
            "117/117 [==============================] - 16s 134ms/step - loss: 1.2681 - accuracy: 0.5062 - val_loss: 1.2645 - val_accuracy: 0.5020\n",
            "Epoch 27/60\n",
            "117/117 [==============================] - 15s 125ms/step - loss: 1.2695 - accuracy: 0.5156 - val_loss: 1.2834 - val_accuracy: 0.4824\n",
            "Epoch 28/60\n",
            "117/117 [==============================] - 14s 121ms/step - loss: 1.2709 - accuracy: 0.5035 - val_loss: 1.2382 - val_accuracy: 0.4941\n",
            "Epoch 29/60\n",
            "117/117 [==============================] - 15s 128ms/step - loss: 1.2602 - accuracy: 0.5121 - val_loss: 1.2947 - val_accuracy: 0.4717\n",
            "Epoch 30/60\n",
            "117/117 [==============================] - 15s 128ms/step - loss: 1.2687 - accuracy: 0.5094 - val_loss: 1.2772 - val_accuracy: 0.4922\n",
            "Epoch 31/60\n",
            "117/117 [==============================] - 15s 127ms/step - loss: 1.2612 - accuracy: 0.5125 - val_loss: 1.3199 - val_accuracy: 0.4521\n",
            "Epoch 32/60\n",
            "117/117 [==============================] - 15s 129ms/step - loss: 1.2567 - accuracy: 0.5218 - val_loss: 1.2522 - val_accuracy: 0.5332\n",
            "Epoch 33/60\n",
            "117/117 [==============================] - 15s 127ms/step - loss: 1.2582 - accuracy: 0.5165 - val_loss: 1.2712 - val_accuracy: 0.5244\n",
            "Epoch 34/60\n",
            "117/117 [==============================] - 17s 146ms/step - loss: 1.2721 - accuracy: 0.5195 - val_loss: 1.2531 - val_accuracy: 0.5176\n",
            "Epoch 35/60\n",
            "117/117 [==============================] - 15s 127ms/step - loss: 1.2591 - accuracy: 0.5180 - val_loss: 1.2896 - val_accuracy: 0.4902\n",
            "Epoch 36/60\n",
            "117/117 [==============================] - 18s 154ms/step - loss: 1.2631 - accuracy: 0.5192 - val_loss: 1.2961 - val_accuracy: 0.4521\n",
            "Epoch 37/60\n",
            "117/117 [==============================] - 16s 135ms/step - loss: 1.2532 - accuracy: 0.5226 - val_loss: 1.2705 - val_accuracy: 0.4844\n",
            "Epoch 38/60\n",
            "117/117 [==============================] - 15s 127ms/step - loss: 1.2517 - accuracy: 0.5321 - val_loss: 1.2745 - val_accuracy: 0.4961\n",
            "Epoch 39/60\n",
            "117/117 [==============================] - 18s 151ms/step - loss: 1.2613 - accuracy: 0.5264 - val_loss: 1.2747 - val_accuracy: 0.4951\n",
            "Epoch 40/60\n",
            "117/117 [==============================] - 16s 133ms/step - loss: 1.2443 - accuracy: 0.5356 - val_loss: 1.2583 - val_accuracy: 0.5176\n",
            "Epoch 41/60\n",
            "117/117 [==============================] - 21s 182ms/step - loss: 1.2717 - accuracy: 0.5241 - val_loss: 1.2604 - val_accuracy: 0.4766\n",
            "Epoch 42/60\n",
            "117/117 [==============================] - 16s 140ms/step - loss: 1.2499 - accuracy: 0.5311 - val_loss: 1.2762 - val_accuracy: 0.5000\n",
            "Epoch 43/60\n",
            "117/117 [==============================] - 16s 136ms/step - loss: 1.2439 - accuracy: 0.5307 - val_loss: 1.2934 - val_accuracy: 0.4941\n",
            "Epoch 44/60\n",
            "117/117 [==============================] - 15s 132ms/step - loss: 1.2506 - accuracy: 0.5284 - val_loss: 1.2790 - val_accuracy: 0.5049\n",
            "Epoch 45/60\n",
            "117/117 [==============================] - 17s 146ms/step - loss: 1.2589 - accuracy: 0.5184 - val_loss: 1.3047 - val_accuracy: 0.5059\n",
            "Epoch 46/60\n",
            "117/117 [==============================] - 16s 139ms/step - loss: 1.2413 - accuracy: 0.5325 - val_loss: 1.2575 - val_accuracy: 0.5078\n",
            "Epoch 47/60\n",
            "117/117 [==============================] - 16s 135ms/step - loss: 1.2496 - accuracy: 0.5289 - val_loss: 1.2675 - val_accuracy: 0.5410\n",
            "Epoch 48/60\n",
            "117/117 [==============================] - 16s 136ms/step - loss: 1.2425 - accuracy: 0.5390 - val_loss: 1.2540 - val_accuracy: 0.5498\n",
            "Epoch 49/60\n",
            "117/117 [==============================] - 17s 142ms/step - loss: 1.2401 - accuracy: 0.5344 - val_loss: 1.2584 - val_accuracy: 0.5381\n",
            "Epoch 50/60\n",
            "117/117 [==============================] - 15s 131ms/step - loss: 1.2396 - accuracy: 0.5398 - val_loss: 1.2464 - val_accuracy: 0.5391\n",
            "Epoch 51/60\n",
            "117/117 [==============================] - 16s 133ms/step - loss: 1.2404 - accuracy: 0.5319 - val_loss: 1.2198 - val_accuracy: 0.5400\n",
            "Epoch 52/60\n",
            "117/117 [==============================] - 17s 146ms/step - loss: 1.2362 - accuracy: 0.5332 - val_loss: 1.2518 - val_accuracy: 0.5254\n",
            "Epoch 53/60\n",
            "117/117 [==============================] - 15s 130ms/step - loss: 1.2248 - accuracy: 0.5424 - val_loss: 1.2396 - val_accuracy: 0.5371\n",
            "Epoch 54/60\n",
            "117/117 [==============================] - 15s 126ms/step - loss: 1.2427 - accuracy: 0.5344 - val_loss: 1.2397 - val_accuracy: 0.5088\n",
            "Epoch 55/60\n",
            "117/117 [==============================] - 14s 121ms/step - loss: 1.2401 - accuracy: 0.5394 - val_loss: 1.2613 - val_accuracy: 0.5400\n",
            "Epoch 56/60\n",
            "117/117 [==============================] - 15s 128ms/step - loss: 1.2388 - accuracy: 0.5420 - val_loss: 1.2493 - val_accuracy: 0.5264\n",
            "Epoch 57/60\n",
            "117/117 [==============================] - 15s 125ms/step - loss: 1.2405 - accuracy: 0.5331 - val_loss: 1.2514 - val_accuracy: 0.5107\n",
            "Epoch 58/60\n",
            "117/117 [==============================] - 14s 120ms/step - loss: 1.2171 - accuracy: 0.5539 - val_loss: 1.2548 - val_accuracy: 0.5107\n",
            "Epoch 59/60\n",
            "117/117 [==============================] - 14s 122ms/step - loss: 1.2307 - accuracy: 0.5421 - val_loss: 1.2578 - val_accuracy: 0.5254\n",
            "Epoch 60/60\n",
            "117/117 [==============================] - 15s 129ms/step - loss: 1.2287 - accuracy: 0.5475 - val_loss: 1.2368 - val_accuracy: 0.5312\n"
          ]
        }
      ],
      "source": [
        "# Training the DConv model\n",
        "DConv_model_history = DConv_model.fit(x_train_1d, y_train, epochs=60, batch_size=64, validation_data=(x_valid_1d, y_valid))\n"
      ]
    },
    {
      "cell_type": "code",
      "execution_count": 27,
      "metadata": {
        "colab": {
          "base_uri": "https://localhost:8080/",
          "height": 455
        },
        "id": "3WwU8uSlk4nH",
        "outputId": "e81e5a91-aa2d-481b-d8c4-8240913e690c"
      },
      "outputs": [
        {
          "output_type": "display_data",
          "data": {
            "text/plain": [
              "<Figure size 640x480 with 1 Axes>"
            ],
            "image/png": "[encoded data removed]"
          },
          "metadata": {}
        }
      ],
      "source": [
        "# Plotting\n",
        "plt.plot(DConv_model_history.history['accuracy'], label='accuracy')\n",
        "plt.plot(DConv_model_history.history['val_accuracy'], label = 'val_accuracy')\n",
        "plt.xlabel('Epoch')\n",
        "plt.ylabel('Accuracy')\n",
        "plt.ylim([0, 1])\n",
        "plt.legend(loc='lower right')\n",
        "plt.show()\n",
        "\n"
      ]
    },
    {
      "cell_type": "code",
      "execution_count": 28,
      "metadata": {
        "colab": {
          "base_uri": "https://localhost:8080/"
        },
        "id": "O7ceeP21k4nH",
        "outputId": "50cb26c2-bf26-4946-ed3a-1b1f8ec57265"
      },
      "outputs": [
        {
          "output_type": "stream",
          "name": "stdout",
          "text": [
            "Test accuracy of DConv_model: 0.5101580023765564\n"
          ]
        }
      ],
      "source": [
        "from re import L\n",
        "# Evaluate the DConv_model on the test set\n",
        "DConv_model_score = DConv_model.evaluate(x_test_1d, y_test, verbose=0)\n",
        "print('Test accuracy of DConv_model:',DConv_model_score[1])\n"
      ]
    },
    {
      "cell_type": "code",
      "execution_count": null,
      "metadata": {
        "id": "GWOH76aTxSCc"
      },
      "outputs": [],
      "source": []
    },
    {
      "cell_type": "markdown",
      "metadata": {
        "id": "68att_9SxVpr"
      },
      "source": [
        "# MODEL 8 (Conv + LSTM)\n",
        "\n",
        "From this paper https://ieeexplore.ieee.org/stamp/stamp.jsp?tp=&arnumber=9055952\n",
        "\n",
        "Train: 0.9984\n",
        "\n",
        "Validation: 0.9940\n",
        "\n",
        "Test: 0.467269\n",
        "\n",
        "need to add more regularization"
      ]
    },
    {
      "cell_type": "code",
      "execution_count": 1,
      "metadata": {
        "colab": {
          "base_uri": "https://localhost:8080/",
          "height": 211
        },
        "id": "F32s4nCVxVpx",
        "outputId": "fdbb28eb-54c6-4fda-e48d-70d4a69a938f"
      },
      "outputs": [
        {
          "output_type": "error",
          "ename": "NameError",
          "evalue": "name 'regularizers' is not defined",
          "traceback": [
            "\u001b[0;31m---------------------------------------------------------------------------\u001b[0m",
            "\u001b[0;31mNameError\u001b[0m                                 Traceback (most recent call last)",
            "\u001b[0;32m<ipython-input-1-fd72be92567b>\u001b[0m in \u001b[0;36m<cell line: 7>\u001b[0;34m()\u001b[0m\n\u001b[1;32m      5\u001b[0m \u001b[0;34m\u001b[0m\u001b[0m\n\u001b[1;32m      6\u001b[0m \u001b[0;31m# 1D Convolutional Block 1\u001b[0m\u001b[0;34m\u001b[0m\u001b[0;34m\u001b[0m\u001b[0m\n\u001b[0;32m----> 7\u001b[0;31m \u001b[0mconv_LSTM_model\u001b[0m\u001b[0;34m.\u001b[0m\u001b[0madd\u001b[0m\u001b[0;34m(\u001b[0m\u001b[0mConv1D\u001b[0m\u001b[0;34m(\u001b[0m\u001b[0mfilters\u001b[0m\u001b[0;34m=\u001b[0m\u001b[0;36m32\u001b[0m\u001b[0;34m,\u001b[0m \u001b[0mkernel_size\u001b[0m\u001b[0;34m=\u001b[0m\u001b[0;36m15\u001b[0m\u001b[0;34m,\u001b[0m \u001b[0mactivation\u001b[0m\u001b[0;34m=\u001b[0m\u001b[0;34m'relu'\u001b[0m\u001b[0;34m,\u001b[0m \u001b[0minput_shape\u001b[0m\u001b[0;34m=\u001b[0m\u001b[0;34m(\u001b[0m\u001b[0;36m400\u001b[0m\u001b[0;34m,\u001b[0m\u001b[0;36m22\u001b[0m\u001b[0;34m)\u001b[0m\u001b[0;34m,\u001b[0m \u001b[0mkernel_regularizer\u001b[0m\u001b[0;34m=\u001b[0m\u001b[0mregularizers\u001b[0m\u001b[0;34m.\u001b[0m\u001b[0ml2\u001b[0m\u001b[0;34m(\u001b[0m\u001b[0;36m0.01\u001b[0m\u001b[0;34m)\u001b[0m\u001b[0;34m)\u001b[0m\u001b[0;34m)\u001b[0m\u001b[0;34m\u001b[0m\u001b[0;34m\u001b[0m\u001b[0m\n\u001b[0m\u001b[1;32m      8\u001b[0m \u001b[0mconv_LSTM_model\u001b[0m\u001b[0;34m.\u001b[0m\u001b[0madd\u001b[0m\u001b[0;34m(\u001b[0m\u001b[0mBatchNormalization\u001b[0m\u001b[0;34m(\u001b[0m\u001b[0;34m)\u001b[0m\u001b[0;34m)\u001b[0m\u001b[0;34m\u001b[0m\u001b[0;34m\u001b[0m\u001b[0m\n\u001b[1;32m      9\u001b[0m \u001b[0mconv_LSTM_model\u001b[0m\u001b[0;34m.\u001b[0m\u001b[0madd\u001b[0m\u001b[0;34m(\u001b[0m\u001b[0mAveragePooling1D\u001b[0m\u001b[0;34m(\u001b[0m\u001b[0mpool_size\u001b[0m\u001b[0;34m=\u001b[0m\u001b[0;36m2\u001b[0m\u001b[0;34m)\u001b[0m\u001b[0;34m)\u001b[0m\u001b[0;34m\u001b[0m\u001b[0;34m\u001b[0m\u001b[0m\n",
            "\u001b[0;31mNameError\u001b[0m: name 'regularizers' is not defined"
          ]
        }
      ],
      "source": [
        "from tensorflow.keras.models import Sequential\n",
        "from tensorflow.keras.layers import Conv1D, BatchNormalization, SpatialDropout1D, AveragePooling1D, Flatten, Dense, Dropout\n",
        "from tensorflow.keras import regularizers\n",
        "\n",
        "\n",
        "conv_LSTM_model = Sequential()\n",
        "\n",
        "# 1D Convolutional Block 1\n",
        "conv_LSTM_model.add(Conv1D(filters=32, kernel_size=15, activation='relu', input_shape=(400,22), kernel_regularizer=regularizers.l2(0.01)))\n",
        "conv_LSTM_model.add(BatchNormalization())\n",
        "conv_LSTM_model.add(AveragePooling1D(pool_size=2))\n",
        "conv_LSTM_model.add(Dropout(0.2))  # Add dropout layer\n",
        "\n",
        "# 1D Convolutional Block 2\n",
        "conv_LSTM_model.add(Conv1D(filters=32, kernel_size=15, activation='relu', kernel_regularizer=regularizers.l2(0.01)))\n",
        "conv_LSTM_model.add(BatchNormalization())\n",
        "conv_LSTM_model.add(AveragePooling1D(pool_size=2))\n",
        "conv_LSTM_model.add(Dropout(0.2))  # Add dropout layer\n",
        "\n",
        "# Flatten the output\n",
        "conv_LSTM_model.add(Flatten())\n",
        "conv_LSTM_model.add(Dense(256, activation='relu', kernel_regularizer=regularizers.l2(0.01)))\n",
        "conv_LSTM_model.add(Reshape((256,1)))\n",
        "conv_LSTM_model.add(LSTM(8))\n",
        "\n",
        "# Softmax classifier\n",
        "conv_LSTM_model.add(Dense(4, activation='softmax'))\n",
        "\n",
        "# Compile the model\n",
        "conv_LSTM_model.compile(loss='categorical_crossentropy', optimizer='adam', metrics=['accuracy'])\n",
        "\n",
        "# Print model summary\n",
        "conv_LSTM_model.summary()\n"
      ]
    },
    {
      "cell_type": "code",
      "execution_count": 38,
      "metadata": {
        "colab": {
          "base_uri": "https://localhost:8080/"
        },
        "id": "u35D-3NFxVpy",
        "outputId": "5c71c536-15b4-44c8-eb15-c4f7d6774caa"
      },
      "outputs": [
        {
          "output_type": "stream",
          "name": "stdout",
          "text": [
            "(7436, 400, 22)\n",
            "(1024, 400, 22)\n",
            "(443, 400, 22)\n"
          ]
        }
      ],
      "source": [
        "x_train_1d = x_train[:, :, 0, :]\n",
        "print(x_train_1d.shape)\n",
        "\n",
        "x_valid_1d = x_valid[:, :, 0, :]\n",
        "print(x_valid_1d.shape)\n",
        "\n",
        "x_test_1d = x_test[:, :, 0, :]\n",
        "print(x_test_1d.shape)"
      ]
    },
    {
      "cell_type": "code",
      "execution_count": 39,
      "metadata": {
        "colab": {
          "base_uri": "https://localhost:8080/",
          "height": 703
        },
        "id": "O8zGxQTfxVpy",
        "outputId": "6fa5fa57-d8ad-44ce-b206-5f9a4e335c01"
      },
      "outputs": [
        {
          "output_type": "stream",
          "name": "stdout",
          "text": [
            "Epoch 1/30\n",
            "117/117 [==============================] - 33s 237ms/step - loss: 1.3214 - accuracy: 0.4051 - val_loss: 1.2826 - val_accuracy: 0.4209\n",
            "Epoch 2/30\n",
            "117/117 [==============================] - 26s 220ms/step - loss: 0.9864 - accuracy: 0.6179 - val_loss: 1.2818 - val_accuracy: 0.4639\n",
            "Epoch 3/30\n",
            "117/117 [==============================] - 26s 223ms/step - loss: 0.6772 - accuracy: 0.7246 - val_loss: 1.3506 - val_accuracy: 0.4551\n",
            "Epoch 4/30\n",
            "117/117 [==============================] - 26s 219ms/step - loss: 0.4756 - accuracy: 0.8343 - val_loss: 1.4441 - val_accuracy: 0.4775\n",
            "Epoch 5/30\n",
            "117/117 [==============================] - 26s 220ms/step - loss: 0.3691 - accuracy: 0.8939 - val_loss: 1.4382 - val_accuracy: 0.4893\n",
            "Epoch 6/30\n",
            "117/117 [==============================] - 26s 223ms/step - loss: 0.2805 - accuracy: 0.9258 - val_loss: 1.5749 - val_accuracy: 0.5059\n",
            "Epoch 7/30\n",
            "117/117 [==============================] - 41s 352ms/step - loss: 0.2484 - accuracy: 0.9363 - val_loss: 1.7213 - val_accuracy: 0.5078\n",
            "Epoch 8/30\n",
            "117/117 [==============================] - 26s 226ms/step - loss: 0.1736 - accuracy: 0.9632 - val_loss: 1.8130 - val_accuracy: 0.5098\n",
            "Epoch 9/30\n",
            "117/117 [==============================] - 26s 226ms/step - loss: 0.1406 - accuracy: 0.9715 - val_loss: 1.8751 - val_accuracy: 0.4922\n",
            "Epoch 10/30\n",
            "117/117 [==============================] - 27s 230ms/step - loss: 0.1273 - accuracy: 0.9722 - val_loss: 1.9884 - val_accuracy: 0.4893\n",
            "Epoch 11/30\n",
            "117/117 [==============================] - 27s 227ms/step - loss: 0.0854 - accuracy: 0.9856 - val_loss: 1.9938 - val_accuracy: 0.5059\n",
            "Epoch 12/30\n"
          ]
        },
        {
          "output_type": "error",
          "ename": "KeyboardInterrupt",
          "evalue": "",
          "traceback": [
            "\u001b[0;31m---------------------------------------------------------------------------\u001b[0m",
            "\u001b[0;31mKeyboardInterrupt\u001b[0m                         Traceback (most recent call last)",
            "\u001b[0;32m<ipython-input-39-7a8d245f1b8c>\u001b[0m in \u001b[0;36m<cell line: 2>\u001b[0;34m()\u001b[0m\n\u001b[1;32m      1\u001b[0m \u001b[0;31m# Training the conv_LSTM_model model\u001b[0m\u001b[0;34m\u001b[0m\u001b[0;34m\u001b[0m\u001b[0m\n\u001b[0;32m----> 2\u001b[0;31m \u001b[0mconv_LSTM_model_history\u001b[0m \u001b[0;34m=\u001b[0m \u001b[0mconv_LSTM_model\u001b[0m\u001b[0;34m.\u001b[0m\u001b[0mfit\u001b[0m\u001b[0;34m(\u001b[0m\u001b[0mx_train_1d\u001b[0m\u001b[0;34m,\u001b[0m \u001b[0my_train\u001b[0m\u001b[0;34m,\u001b[0m \u001b[0mepochs\u001b[0m\u001b[0;34m=\u001b[0m\u001b[0;36m30\u001b[0m\u001b[0;34m,\u001b[0m \u001b[0mbatch_size\u001b[0m\u001b[0;34m=\u001b[0m\u001b[0;36m64\u001b[0m\u001b[0;34m,\u001b[0m \u001b[0mvalidation_data\u001b[0m\u001b[0;34m=\u001b[0m\u001b[0;34m(\u001b[0m\u001b[0mx_valid_1d\u001b[0m\u001b[0;34m,\u001b[0m \u001b[0my_valid\u001b[0m\u001b[0;34m)\u001b[0m\u001b[0;34m)\u001b[0m\u001b[0;34m\u001b[0m\u001b[0;34m\u001b[0m\u001b[0m\n\u001b[0m",
            "\u001b[0;32m/usr/local/lib/python3.10/dist-packages/keras/src/utils/traceback_utils.py\u001b[0m in \u001b[0;36merror_handler\u001b[0;34m(*args, **kwargs)\u001b[0m\n\u001b[1;32m     63\u001b[0m         \u001b[0mfiltered_tb\u001b[0m \u001b[0;34m=\u001b[0m \u001b[0;32mNone\u001b[0m\u001b[0;34m\u001b[0m\u001b[0;34m\u001b[0m\u001b[0m\n\u001b[1;32m     64\u001b[0m         \u001b[0;32mtry\u001b[0m\u001b[0;34m:\u001b[0m\u001b[0;34m\u001b[0m\u001b[0;34m\u001b[0m\u001b[0m\n\u001b[0;32m---> 65\u001b[0;31m             \u001b[0;32mreturn\u001b[0m \u001b[0mfn\u001b[0m\u001b[0;34m(\u001b[0m\u001b[0;34m*\u001b[0m\u001b[0margs\u001b[0m\u001b[0;34m,\u001b[0m \u001b[0;34m**\u001b[0m\u001b[0mkwargs\u001b[0m\u001b[0;34m)\u001b[0m\u001b[0;34m\u001b[0m\u001b[0;34m\u001b[0m\u001b[0m\n\u001b[0m\u001b[1;32m     66\u001b[0m         \u001b[0;32mexcept\u001b[0m \u001b[0mException\u001b[0m \u001b[0;32mas\u001b[0m \u001b[0me\u001b[0m\u001b[0;34m:\u001b[0m\u001b[0;34m\u001b[0m\u001b[0;34m\u001b[0m\u001b[0m\n\u001b[1;32m     67\u001b[0m             \u001b[0mfiltered_tb\u001b[0m \u001b[0;34m=\u001b[0m \u001b[0m_process_traceback_frames\u001b[0m\u001b[0;34m(\u001b[0m\u001b[0me\u001b[0m\u001b[0;34m.\u001b[0m\u001b[0m__traceback__\u001b[0m\u001b[0;34m)\u001b[0m\u001b[0;34m\u001b[0m\u001b[0;34m\u001b[0m\u001b[0m\n",
            "\u001b[0;32m/usr/local/lib/python3.10/dist-packages/keras/src/engine/training.py\u001b[0m in \u001b[0;36mfit\u001b[0;34m(self, x, y, batch_size, epochs, verbose, callbacks, validation_split, validation_data, shuffle, class_weight, sample_weight, initial_epoch, steps_per_epoch, validation_steps, validation_batch_size, validation_freq, max_queue_size, workers, use_multiprocessing)\u001b[0m\n\u001b[1;32m   1805\u001b[0m                         ):\n\u001b[1;32m   1806\u001b[0m                             \u001b[0mcallbacks\u001b[0m\u001b[0;34m.\u001b[0m\u001b[0mon_train_batch_begin\u001b[0m\u001b[0;34m(\u001b[0m\u001b[0mstep\u001b[0m\u001b[0;34m)\u001b[0m\u001b[0;34m\u001b[0m\u001b[0;34m\u001b[0m\u001b[0m\n\u001b[0;32m-> 1807\u001b[0;31m                             \u001b[0mtmp_logs\u001b[0m \u001b[0;34m=\u001b[0m \u001b[0mself\u001b[0m\u001b[0;34m.\u001b[0m\u001b[0mtrain_function\u001b[0m\u001b[0;34m(\u001b[0m\u001b[0miterator\u001b[0m\u001b[0;34m)\u001b[0m\u001b[0;34m\u001b[0m\u001b[0;34m\u001b[0m\u001b[0m\n\u001b[0m\u001b[1;32m   1808\u001b[0m                             \u001b[0;32mif\u001b[0m \u001b[0mdata_handler\u001b[0m\u001b[0;34m.\u001b[0m\u001b[0mshould_sync\u001b[0m\u001b[0;34m:\u001b[0m\u001b[0;34m\u001b[0m\u001b[0;34m\u001b[0m\u001b[0m\n\u001b[1;32m   1809\u001b[0m                                 \u001b[0mcontext\u001b[0m\u001b[0;34m.\u001b[0m\u001b[0masync_wait\u001b[0m\u001b[0;34m(\u001b[0m\u001b[0;34m)\u001b[0m\u001b[0;34m\u001b[0m\u001b[0;34m\u001b[0m\u001b[0m\n",
            "\u001b[0;32m/usr/local/lib/python3.10/dist-packages/tensorflow/python/util/traceback_utils.py\u001b[0m in \u001b[0;36merror_handler\u001b[0;34m(*args, **kwargs)\u001b[0m\n\u001b[1;32m    148\u001b[0m     \u001b[0mfiltered_tb\u001b[0m \u001b[0;34m=\u001b[0m \u001b[0;32mNone\u001b[0m\u001b[0;34m\u001b[0m\u001b[0;34m\u001b[0m\u001b[0m\n\u001b[1;32m    149\u001b[0m     \u001b[0;32mtry\u001b[0m\u001b[0;34m:\u001b[0m\u001b[0;34m\u001b[0m\u001b[0;34m\u001b[0m\u001b[0m\n\u001b[0;32m--> 150\u001b[0;31m       \u001b[0;32mreturn\u001b[0m \u001b[0mfn\u001b[0m\u001b[0;34m(\u001b[0m\u001b[0;34m*\u001b[0m\u001b[0margs\u001b[0m\u001b[0;34m,\u001b[0m \u001b[0;34m**\u001b[0m\u001b[0mkwargs\u001b[0m\u001b[0;34m)\u001b[0m\u001b[0;34m\u001b[0m\u001b[0;34m\u001b[0m\u001b[0m\n\u001b[0m\u001b[1;32m    151\u001b[0m     \u001b[0;32mexcept\u001b[0m \u001b[0mException\u001b[0m \u001b[0;32mas\u001b[0m \u001b[0me\u001b[0m\u001b[0;34m:\u001b[0m\u001b[0;34m\u001b[0m\u001b[0;34m\u001b[0m\u001b[0m\n\u001b[1;32m    152\u001b[0m       \u001b[0mfiltered_tb\u001b[0m \u001b[0;34m=\u001b[0m \u001b[0m_process_traceback_frames\u001b[0m\u001b[0;34m(\u001b[0m\u001b[0me\u001b[0m\u001b[0;34m.\u001b[0m\u001b[0m__traceback__\u001b[0m\u001b[0;34m)\u001b[0m\u001b[0;34m\u001b[0m\u001b[0;34m\u001b[0m\u001b[0m\n",
            "\u001b[0;32m/usr/local/lib/python3.10/dist-packages/tensorflow/python/eager/polymorphic_function/polymorphic_function.py\u001b[0m in \u001b[0;36m__call__\u001b[0;34m(self, *args, **kwds)\u001b[0m\n\u001b[1;32m    830\u001b[0m \u001b[0;34m\u001b[0m\u001b[0m\n\u001b[1;32m    831\u001b[0m       \u001b[0;32mwith\u001b[0m \u001b[0mOptionalXlaContext\u001b[0m\u001b[0;34m(\u001b[0m\u001b[0mself\u001b[0m\u001b[0;34m.\u001b[0m\u001b[0m_jit_compile\u001b[0m\u001b[0;34m)\u001b[0m\u001b[0;34m:\u001b[0m\u001b[0;34m\u001b[0m\u001b[0;34m\u001b[0m\u001b[0m\n\u001b[0;32m--> 832\u001b[0;31m         \u001b[0mresult\u001b[0m \u001b[0;34m=\u001b[0m \u001b[0mself\u001b[0m\u001b[0;34m.\u001b[0m\u001b[0m_call\u001b[0m\u001b[0;34m(\u001b[0m\u001b[0;34m*\u001b[0m\u001b[0margs\u001b[0m\u001b[0;34m,\u001b[0m \u001b[0;34m**\u001b[0m\u001b[0mkwds\u001b[0m\u001b[0;34m)\u001b[0m\u001b[0;34m\u001b[0m\u001b[0;34m\u001b[0m\u001b[0m\n\u001b[0m\u001b[1;32m    833\u001b[0m \u001b[0;34m\u001b[0m\u001b[0m\n\u001b[1;32m    834\u001b[0m       \u001b[0mnew_tracing_count\u001b[0m \u001b[0;34m=\u001b[0m \u001b[0mself\u001b[0m\u001b[0;34m.\u001b[0m\u001b[0mexperimental_get_tracing_count\u001b[0m\u001b[0;34m(\u001b[0m\u001b[0;34m)\u001b[0m\u001b[0;34m\u001b[0m\u001b[0;34m\u001b[0m\u001b[0m\n",
            "\u001b[0;32m/usr/local/lib/python3.10/dist-packages/tensorflow/python/eager/polymorphic_function/polymorphic_function.py\u001b[0m in \u001b[0;36m_call\u001b[0;34m(self, *args, **kwds)\u001b[0m\n\u001b[1;32m    866\u001b[0m       \u001b[0;31m# In this case we have created variables on the first call, so we run the\u001b[0m\u001b[0;34m\u001b[0m\u001b[0;34m\u001b[0m\u001b[0m\n\u001b[1;32m    867\u001b[0m       \u001b[0;31m# defunned version which is guaranteed to never create variables.\u001b[0m\u001b[0;34m\u001b[0m\u001b[0;34m\u001b[0m\u001b[0m\n\u001b[0;32m--> 868\u001b[0;31m       return tracing_compilation.call_function(\n\u001b[0m\u001b[1;32m    869\u001b[0m           \u001b[0margs\u001b[0m\u001b[0;34m,\u001b[0m \u001b[0mkwds\u001b[0m\u001b[0;34m,\u001b[0m \u001b[0mself\u001b[0m\u001b[0;34m.\u001b[0m\u001b[0m_no_variable_creation_config\u001b[0m\u001b[0;34m\u001b[0m\u001b[0;34m\u001b[0m\u001b[0m\n\u001b[1;32m    870\u001b[0m       )\n",
            "\u001b[0;32m/usr/local/lib/python3.10/dist-packages/tensorflow/python/eager/polymorphic_function/tracing_compilation.py\u001b[0m in \u001b[0;36mcall_function\u001b[0;34m(args, kwargs, tracing_options)\u001b[0m\n\u001b[1;32m    137\u001b[0m   \u001b[0mbound_args\u001b[0m \u001b[0;34m=\u001b[0m \u001b[0mfunction\u001b[0m\u001b[0;34m.\u001b[0m\u001b[0mfunction_type\u001b[0m\u001b[0;34m.\u001b[0m\u001b[0mbind\u001b[0m\u001b[0;34m(\u001b[0m\u001b[0;34m*\u001b[0m\u001b[0margs\u001b[0m\u001b[0;34m,\u001b[0m \u001b[0;34m**\u001b[0m\u001b[0mkwargs\u001b[0m\u001b[0;34m)\u001b[0m\u001b[0;34m\u001b[0m\u001b[0;34m\u001b[0m\u001b[0m\n\u001b[1;32m    138\u001b[0m   \u001b[0mflat_inputs\u001b[0m \u001b[0;34m=\u001b[0m \u001b[0mfunction\u001b[0m\u001b[0;34m.\u001b[0m\u001b[0mfunction_type\u001b[0m\u001b[0;34m.\u001b[0m\u001b[0munpack_inputs\u001b[0m\u001b[0;34m(\u001b[0m\u001b[0mbound_args\u001b[0m\u001b[0;34m)\u001b[0m\u001b[0;34m\u001b[0m\u001b[0;34m\u001b[0m\u001b[0m\n\u001b[0;32m--> 139\u001b[0;31m   return function._call_flat(  # pylint: disable=protected-access\n\u001b[0m\u001b[1;32m    140\u001b[0m       \u001b[0mflat_inputs\u001b[0m\u001b[0;34m,\u001b[0m \u001b[0mcaptured_inputs\u001b[0m\u001b[0;34m=\u001b[0m\u001b[0mfunction\u001b[0m\u001b[0;34m.\u001b[0m\u001b[0mcaptured_inputs\u001b[0m\u001b[0;34m\u001b[0m\u001b[0;34m\u001b[0m\u001b[0m\n\u001b[1;32m    141\u001b[0m   )\n",
            "\u001b[0;32m/usr/local/lib/python3.10/dist-packages/tensorflow/python/eager/polymorphic_function/concrete_function.py\u001b[0m in \u001b[0;36m_call_flat\u001b[0;34m(self, tensor_inputs, captured_inputs)\u001b[0m\n\u001b[1;32m   1321\u001b[0m         and executing_eagerly):\n\u001b[1;32m   1322\u001b[0m       \u001b[0;31m# No tape is watching; skip to running the function.\u001b[0m\u001b[0;34m\u001b[0m\u001b[0;34m\u001b[0m\u001b[0m\n\u001b[0;32m-> 1323\u001b[0;31m       \u001b[0;32mreturn\u001b[0m \u001b[0mself\u001b[0m\u001b[0;34m.\u001b[0m\u001b[0m_inference_function\u001b[0m\u001b[0;34m.\u001b[0m\u001b[0mcall_preflattened\u001b[0m\u001b[0;34m(\u001b[0m\u001b[0margs\u001b[0m\u001b[0;34m)\u001b[0m\u001b[0;34m\u001b[0m\u001b[0;34m\u001b[0m\u001b[0m\n\u001b[0m\u001b[1;32m   1324\u001b[0m     forward_backward = self._select_forward_and_backward_functions(\n\u001b[1;32m   1325\u001b[0m         \u001b[0margs\u001b[0m\u001b[0;34m,\u001b[0m\u001b[0;34m\u001b[0m\u001b[0;34m\u001b[0m\u001b[0m\n",
            "\u001b[0;32m/usr/local/lib/python3.10/dist-packages/tensorflow/python/eager/polymorphic_function/atomic_function.py\u001b[0m in \u001b[0;36mcall_preflattened\u001b[0;34m(self, args)\u001b[0m\n\u001b[1;32m    214\u001b[0m   \u001b[0;32mdef\u001b[0m \u001b[0mcall_preflattened\u001b[0m\u001b[0;34m(\u001b[0m\u001b[0mself\u001b[0m\u001b[0;34m,\u001b[0m \u001b[0margs\u001b[0m\u001b[0;34m:\u001b[0m \u001b[0mSequence\u001b[0m\u001b[0;34m[\u001b[0m\u001b[0mcore\u001b[0m\u001b[0;34m.\u001b[0m\u001b[0mTensor\u001b[0m\u001b[0;34m]\u001b[0m\u001b[0;34m)\u001b[0m \u001b[0;34m->\u001b[0m \u001b[0mAny\u001b[0m\u001b[0;34m:\u001b[0m\u001b[0;34m\u001b[0m\u001b[0;34m\u001b[0m\u001b[0m\n\u001b[1;32m    215\u001b[0m     \u001b[0;34m\"\"\"Calls with flattened tensor inputs and returns the structured output.\"\"\"\u001b[0m\u001b[0;34m\u001b[0m\u001b[0;34m\u001b[0m\u001b[0m\n\u001b[0;32m--> 216\u001b[0;31m     \u001b[0mflat_outputs\u001b[0m \u001b[0;34m=\u001b[0m \u001b[0mself\u001b[0m\u001b[0;34m.\u001b[0m\u001b[0mcall_flat\u001b[0m\u001b[0;34m(\u001b[0m\u001b[0;34m*\u001b[0m\u001b[0margs\u001b[0m\u001b[0;34m)\u001b[0m\u001b[0;34m\u001b[0m\u001b[0;34m\u001b[0m\u001b[0m\n\u001b[0m\u001b[1;32m    217\u001b[0m     \u001b[0;32mreturn\u001b[0m \u001b[0mself\u001b[0m\u001b[0;34m.\u001b[0m\u001b[0mfunction_type\u001b[0m\u001b[0;34m.\u001b[0m\u001b[0mpack_output\u001b[0m\u001b[0;34m(\u001b[0m\u001b[0mflat_outputs\u001b[0m\u001b[0;34m)\u001b[0m\u001b[0;34m\u001b[0m\u001b[0;34m\u001b[0m\u001b[0m\n\u001b[1;32m    218\u001b[0m \u001b[0;34m\u001b[0m\u001b[0m\n",
            "\u001b[0;32m/usr/local/lib/python3.10/dist-packages/tensorflow/python/eager/polymorphic_function/atomic_function.py\u001b[0m in \u001b[0;36mcall_flat\u001b[0;34m(self, *args)\u001b[0m\n\u001b[1;32m    249\u001b[0m         \u001b[0;32mwith\u001b[0m \u001b[0mrecord\u001b[0m\u001b[0;34m.\u001b[0m\u001b[0mstop_recording\u001b[0m\u001b[0;34m(\u001b[0m\u001b[0;34m)\u001b[0m\u001b[0;34m:\u001b[0m\u001b[0;34m\u001b[0m\u001b[0;34m\u001b[0m\u001b[0m\n\u001b[1;32m    250\u001b[0m           \u001b[0;32mif\u001b[0m \u001b[0mself\u001b[0m\u001b[0;34m.\u001b[0m\u001b[0m_bound_context\u001b[0m\u001b[0;34m.\u001b[0m\u001b[0mexecuting_eagerly\u001b[0m\u001b[0;34m(\u001b[0m\u001b[0;34m)\u001b[0m\u001b[0;34m:\u001b[0m\u001b[0;34m\u001b[0m\u001b[0;34m\u001b[0m\u001b[0m\n\u001b[0;32m--> 251\u001b[0;31m             outputs = self._bound_context.call_function(\n\u001b[0m\u001b[1;32m    252\u001b[0m                 \u001b[0mself\u001b[0m\u001b[0;34m.\u001b[0m\u001b[0mname\u001b[0m\u001b[0;34m,\u001b[0m\u001b[0;34m\u001b[0m\u001b[0;34m\u001b[0m\u001b[0m\n\u001b[1;32m    253\u001b[0m                 \u001b[0mlist\u001b[0m\u001b[0;34m(\u001b[0m\u001b[0margs\u001b[0m\u001b[0;34m)\u001b[0m\u001b[0;34m,\u001b[0m\u001b[0;34m\u001b[0m\u001b[0;34m\u001b[0m\u001b[0m\n",
            "\u001b[0;32m/usr/local/lib/python3.10/dist-packages/tensorflow/python/eager/context.py\u001b[0m in \u001b[0;36mcall_function\u001b[0;34m(self, name, tensor_inputs, num_outputs)\u001b[0m\n\u001b[1;32m   1484\u001b[0m     \u001b[0mcancellation_context\u001b[0m \u001b[0;34m=\u001b[0m \u001b[0mcancellation\u001b[0m\u001b[0;34m.\u001b[0m\u001b[0mcontext\u001b[0m\u001b[0;34m(\u001b[0m\u001b[0;34m)\u001b[0m\u001b[0;34m\u001b[0m\u001b[0;34m\u001b[0m\u001b[0m\n\u001b[1;32m   1485\u001b[0m     \u001b[0;32mif\u001b[0m \u001b[0mcancellation_context\u001b[0m \u001b[0;32mis\u001b[0m \u001b[0;32mNone\u001b[0m\u001b[0;34m:\u001b[0m\u001b[0;34m\u001b[0m\u001b[0;34m\u001b[0m\u001b[0m\n\u001b[0;32m-> 1486\u001b[0;31m       outputs = execute.execute(\n\u001b[0m\u001b[1;32m   1487\u001b[0m           \u001b[0mname\u001b[0m\u001b[0;34m.\u001b[0m\u001b[0mdecode\u001b[0m\u001b[0;34m(\u001b[0m\u001b[0;34m\"utf-8\"\u001b[0m\u001b[0;34m)\u001b[0m\u001b[0;34m,\u001b[0m\u001b[0;34m\u001b[0m\u001b[0;34m\u001b[0m\u001b[0m\n\u001b[1;32m   1488\u001b[0m           \u001b[0mnum_outputs\u001b[0m\u001b[0;34m=\u001b[0m\u001b[0mnum_outputs\u001b[0m\u001b[0;34m,\u001b[0m\u001b[0;34m\u001b[0m\u001b[0;34m\u001b[0m\u001b[0m\n",
            "\u001b[0;32m/usr/local/lib/python3.10/dist-packages/tensorflow/python/eager/execute.py\u001b[0m in \u001b[0;36mquick_execute\u001b[0;34m(op_name, num_outputs, inputs, attrs, ctx, name)\u001b[0m\n\u001b[1;32m     51\u001b[0m   \u001b[0;32mtry\u001b[0m\u001b[0;34m:\u001b[0m\u001b[0;34m\u001b[0m\u001b[0;34m\u001b[0m\u001b[0m\n\u001b[1;32m     52\u001b[0m     \u001b[0mctx\u001b[0m\u001b[0;34m.\u001b[0m\u001b[0mensure_initialized\u001b[0m\u001b[0;34m(\u001b[0m\u001b[0;34m)\u001b[0m\u001b[0;34m\u001b[0m\u001b[0;34m\u001b[0m\u001b[0m\n\u001b[0;32m---> 53\u001b[0;31m     tensors = pywrap_tfe.TFE_Py_Execute(ctx._handle, device_name, op_name,\n\u001b[0m\u001b[1;32m     54\u001b[0m                                         inputs, attrs, num_outputs)\n\u001b[1;32m     55\u001b[0m   \u001b[0;32mexcept\u001b[0m \u001b[0mcore\u001b[0m\u001b[0;34m.\u001b[0m\u001b[0m_NotOkStatusException\u001b[0m \u001b[0;32mas\u001b[0m \u001b[0me\u001b[0m\u001b[0;34m:\u001b[0m\u001b[0;34m\u001b[0m\u001b[0;34m\u001b[0m\u001b[0m\n",
            "\u001b[0;31mKeyboardInterrupt\u001b[0m: "
          ]
        }
      ],
      "source": [
        "# Training the conv_LSTM_model model\n",
        "conv_LSTM_model_history = conv_LSTM_model.fit(x_train_1d, y_train, epochs=30, batch_size=64, validation_data=(x_valid_1d, y_valid))\n"
      ]
    },
    {
      "cell_type": "code",
      "execution_count": 40,
      "metadata": {
        "colab": {
          "base_uri": "https://localhost:8080/",
          "height": 211
        },
        "id": "3bWNP94exVpy",
        "outputId": "6e556a35-80ca-492e-c431-3ccc2542b0ef"
      },
      "outputs": [
        {
          "output_type": "error",
          "ename": "NameError",
          "evalue": "name 'conv_LSTM_model_history' is not defined",
          "traceback": [
            "\u001b[0;31m---------------------------------------------------------------------------\u001b[0m",
            "\u001b[0;31mNameError\u001b[0m                                 Traceback (most recent call last)",
            "\u001b[0;32m<ipython-input-40-8b0a4b7cca80>\u001b[0m in \u001b[0;36m<cell line: 2>\u001b[0;34m()\u001b[0m\n\u001b[1;32m      1\u001b[0m \u001b[0;31m# Plotting\u001b[0m\u001b[0;34m\u001b[0m\u001b[0;34m\u001b[0m\u001b[0m\n\u001b[0;32m----> 2\u001b[0;31m \u001b[0mplt\u001b[0m\u001b[0;34m.\u001b[0m\u001b[0mplot\u001b[0m\u001b[0;34m(\u001b[0m\u001b[0mconv_LSTM_model_history\u001b[0m\u001b[0;34m.\u001b[0m\u001b[0mhistory\u001b[0m\u001b[0;34m[\u001b[0m\u001b[0;34m'accuracy'\u001b[0m\u001b[0;34m]\u001b[0m\u001b[0;34m,\u001b[0m \u001b[0mlabel\u001b[0m\u001b[0;34m=\u001b[0m\u001b[0;34m'accuracy'\u001b[0m\u001b[0;34m)\u001b[0m\u001b[0;34m\u001b[0m\u001b[0;34m\u001b[0m\u001b[0m\n\u001b[0m\u001b[1;32m      3\u001b[0m \u001b[0mplt\u001b[0m\u001b[0;34m.\u001b[0m\u001b[0mplot\u001b[0m\u001b[0;34m(\u001b[0m\u001b[0mconv_LSTM_model_history\u001b[0m\u001b[0;34m.\u001b[0m\u001b[0mhistory\u001b[0m\u001b[0;34m[\u001b[0m\u001b[0;34m'val_accuracy'\u001b[0m\u001b[0;34m]\u001b[0m\u001b[0;34m,\u001b[0m \u001b[0mlabel\u001b[0m \u001b[0;34m=\u001b[0m \u001b[0;34m'val_accuracy'\u001b[0m\u001b[0;34m)\u001b[0m\u001b[0;34m\u001b[0m\u001b[0;34m\u001b[0m\u001b[0m\n\u001b[1;32m      4\u001b[0m \u001b[0mplt\u001b[0m\u001b[0;34m.\u001b[0m\u001b[0mxlabel\u001b[0m\u001b[0;34m(\u001b[0m\u001b[0;34m'Epoch'\u001b[0m\u001b[0;34m)\u001b[0m\u001b[0;34m\u001b[0m\u001b[0;34m\u001b[0m\u001b[0m\n\u001b[1;32m      5\u001b[0m \u001b[0mplt\u001b[0m\u001b[0;34m.\u001b[0m\u001b[0mylabel\u001b[0m\u001b[0;34m(\u001b[0m\u001b[0;34m'Accuracy'\u001b[0m\u001b[0;34m)\u001b[0m\u001b[0;34m\u001b[0m\u001b[0;34m\u001b[0m\u001b[0m\n",
            "\u001b[0;31mNameError\u001b[0m: name 'conv_LSTM_model_history' is not defined"
          ]
        }
      ],
      "source": [
        "# Plotting\n",
        "plt.plot(conv_LSTM_model_history.history['accuracy'], label='accuracy')\n",
        "plt.plot(conv_LSTM_model_history.history['val_accuracy'], label = 'val_accuracy')\n",
        "plt.xlabel('Epoch')\n",
        "plt.ylabel('Accuracy')\n",
        "plt.ylim([0, 1])\n",
        "plt.legend(loc='lower right')\n",
        "plt.show()\n",
        "\n"
      ]
    },
    {
      "cell_type": "code",
      "execution_count": 41,
      "metadata": {
        "colab": {
          "base_uri": "https://localhost:8080/"
        },
        "id": "F6lUnaU2xVpy",
        "outputId": "df4f3c70-741d-4d2b-9694-1df6e31a210b"
      },
      "outputs": [
        {
          "output_type": "stream",
          "name": "stdout",
          "text": [
            "Test accuracy of conv_LSTM_model: 0.51241534948349\n"
          ]
        }
      ],
      "source": [
        "from re import L\n",
        "# Evaluate the conv_LSTM_model on the test set\n",
        "conv_LSTM_model_score = conv_LSTM_model.evaluate(x_test_1d, y_test, verbose=0)\n",
        "print('Test accuracy of conv_LSTM_model:',conv_LSTM_model_score[1])\n"
      ]
    },
    {
      "cell_type": "code",
      "execution_count": null,
      "metadata": {
        "id": "xwYNHTb64_If"
      },
      "outputs": [],
      "source": []
    },
    {
      "cell_type": "markdown",
      "metadata": {
        "id": "3m1pLMeD4_09"
      },
      "source": [
        "# MODEL 9 (Vanilla RNN)\n"
      ]
    },
    {
      "cell_type": "code",
      "execution_count": null,
      "metadata": {
        "colab": {
          "base_uri": "https://localhost:8080/"
        },
        "id": "a2kRSaMp4_0-",
        "outputId": "0ad389a2-640e-4005-ee04-7c1046c82816"
      },
      "outputs": [
        {
          "name": "stdout",
          "output_type": "stream",
          "text": [
            "Model: \"sequential_30\"\n",
            "_________________________________________________________________\n",
            " Layer (type)                Output Shape              Param #   \n",
            "=================================================================\n",
            " conv1d_16 (Conv1D)          (None, 386, 32)           10592     \n",
            "                                                                 \n",
            " batch_normalization_13 (Ba  (None, 386, 32)           128       \n",
            " tchNormalization)                                               \n",
            "                                                                 \n",
            " average_pooling1d_7 (Avera  (None, 193, 32)           0         \n",
            " gePooling1D)                                                    \n",
            "                                                                 \n",
            " conv1d_17 (Conv1D)          (None, 179, 32)           15392     \n",
            "                                                                 \n",
            " batch_normalization_14 (Ba  (None, 179, 32)           128       \n",
            " tchNormalization)                                               \n",
            "                                                                 \n",
            " average_pooling1d_8 (Avera  (None, 89, 32)            0         \n",
            " gePooling1D)                                                    \n",
            "                                                                 \n",
            " flatten_9 (Flatten)         (None, 2848)              0         \n",
            "                                                                 \n",
            " dense_25 (Dense)            (None, 256)               729344    \n",
            "                                                                 \n",
            " reshape_5 (Reshape)         (None, 256, 1)            0         \n",
            "                                                                 \n",
            " lstm_9 (LSTM)               (None, 8)                 320       \n",
            "                                                                 \n",
            " dense_26 (Dense)            (None, 4)                 36        \n",
            "                                                                 \n",
            "=================================================================\n",
            "Total params: 755940 (2.88 MB)\n",
            "Trainable params: 755812 (2.88 MB)\n",
            "Non-trainable params: 128 (512.00 Byte)\n",
            "_________________________________________________________________\n"
          ]
        }
      ],
      "source": [
        "from tensorflow.keras.models import Sequential\n",
        "from tensorflow.keras.layers import SimpleRNN, Dense\n",
        "\n",
        "# Create the model\n",
        "model = Sequential()\n",
        "\n",
        "# Add the RNN layer\n",
        "model.add(SimpleRNN(units=64, input_shape=(timesteps, features)))\n",
        "\n",
        "# Add a dense layer for classification\n",
        "model.add(Dense(units=num_classes, activation='softmax'))\n",
        "\n",
        "# Compile the model\n",
        "model.compile(loss='categorical_crossentropy', optimizer='adam', metrics=['accuracy'])\n",
        "\n",
        "# Print the model summary\n",
        "model.summary()\n"
      ]
    },
    {
      "cell_type": "code",
      "execution_count": null,
      "metadata": {
        "colab": {
          "base_uri": "https://localhost:8080/"
        },
        "id": "X_8YjNzn4_0_",
        "outputId": "1c9721e7-5a98-4885-d8e0-0323717f0ee4"
      },
      "outputs": [
        {
          "name": "stdout",
          "output_type": "stream",
          "text": [
            "(7460, 400, 22)\n",
            "(1000, 400, 22)\n",
            "(443, 400, 22)\n"
          ]
        }
      ],
      "source": [
        "x_train_1d = x_train[:, :, 0, :]\n",
        "print(x_train_1d.shape)\n",
        "\n",
        "x_valid_1d = x_valid[:, :, 0, :]\n",
        "print(x_valid_1d.shape)\n",
        "\n",
        "x_test_1d = x_test[:, :, 0, :]\n",
        "print(x_test_1d.shape)"
      ]
    },
    {
      "cell_type": "code",
      "execution_count": null,
      "metadata": {
        "colab": {
          "base_uri": "https://localhost:8080/"
        },
        "id": "io37uOcX4_0_",
        "outputId": "3aad01f9-e33a-4194-8991-c3e9be6607b5"
      },
      "outputs": [
        {
          "name": "stderr",
          "output_type": "stream",
          "text": [
            "/usr/local/lib/python3.10/dist-packages/tensorflow/python/data/ops/structured_function.py:258: UserWarning: Even though the `tf.config.experimental_run_functions_eagerly` option is set, this option does not apply to tf.data functions. To force eager execution of tf.data functions, please use `tf.data.experimental.enable_debug_mode()`.\n",
            "  warnings.warn(\n"
          ]
        },
        {
          "name": "stdout",
          "output_type": "stream",
          "text": [
            "Epoch 1/30\n",
            "117/117 [==============================] - 12s 104ms/step - loss: 1.3041 - accuracy: 0.3941 - val_loss: 1.2438 - val_accuracy: 0.4660\n",
            "Epoch 2/30\n",
            "117/117 [==============================] - 11s 94ms/step - loss: 1.0328 - accuracy: 0.5658 - val_loss: 1.0265 - val_accuracy: 0.5570\n",
            "Epoch 3/30\n",
            "117/117 [==============================] - 11s 92ms/step - loss: 0.7890 - accuracy: 0.6507 - val_loss: 0.8343 - val_accuracy: 0.6310\n",
            "Epoch 4/30\n",
            "117/117 [==============================] - 11s 96ms/step - loss: 0.6118 - accuracy: 0.7185 - val_loss: 0.6007 - val_accuracy: 0.7280\n",
            "Epoch 5/30\n",
            "117/117 [==============================] - 11s 97ms/step - loss: 0.4857 - accuracy: 0.7842 - val_loss: 0.5014 - val_accuracy: 0.7990\n",
            "Epoch 6/30\n",
            "117/117 [==============================] - 13s 107ms/step - loss: 0.4306 - accuracy: 0.8209 - val_loss: 0.4843 - val_accuracy: 0.8020\n",
            "Epoch 7/30\n",
            "117/117 [==============================] - 11s 98ms/step - loss: 0.3789 - accuracy: 0.8610 - val_loss: 0.4304 - val_accuracy: 0.8400\n",
            "Epoch 8/30\n",
            "117/117 [==============================] - 11s 96ms/step - loss: 0.3022 - accuracy: 0.9068 - val_loss: 0.3066 - val_accuracy: 0.8990\n",
            "Epoch 9/30\n",
            "117/117 [==============================] - 11s 97ms/step - loss: 0.2044 - accuracy: 0.9523 - val_loss: 0.2453 - val_accuracy: 0.9220\n",
            "Epoch 10/30\n",
            "117/117 [==============================] - 11s 95ms/step - loss: 0.1653 - accuracy: 0.9617 - val_loss: 0.2278 - val_accuracy: 0.9300\n",
            "Epoch 11/30\n",
            "117/117 [==============================] - 11s 97ms/step - loss: 0.1136 - accuracy: 0.9759 - val_loss: 0.1684 - val_accuracy: 0.9450\n",
            "Epoch 12/30\n",
            "117/117 [==============================] - 11s 93ms/step - loss: 0.0883 - accuracy: 0.9843 - val_loss: 0.0964 - val_accuracy: 0.9820\n",
            "Epoch 13/30\n",
            "117/117 [==============================] - 12s 101ms/step - loss: 0.0558 - accuracy: 0.9932 - val_loss: 0.1163 - val_accuracy: 0.9730\n",
            "Epoch 14/30\n",
            "117/117 [==============================] - 11s 96ms/step - loss: 0.0752 - accuracy: 0.9834 - val_loss: 0.2705 - val_accuracy: 0.9110\n",
            "Epoch 15/30\n",
            "117/117 [==============================] - 11s 96ms/step - loss: 0.1304 - accuracy: 0.9594 - val_loss: 0.1849 - val_accuracy: 0.9460\n",
            "Epoch 16/30\n",
            "117/117 [==============================] - 11s 95ms/step - loss: 0.0784 - accuracy: 0.9803 - val_loss: 0.1457 - val_accuracy: 0.9600\n",
            "Epoch 17/30\n",
            "117/117 [==============================] - 11s 98ms/step - loss: 0.0457 - accuracy: 0.9921 - val_loss: 0.0647 - val_accuracy: 0.9850\n",
            "Epoch 18/30\n",
            "117/117 [==============================] - 12s 99ms/step - loss: 0.0300 - accuracy: 0.9954 - val_loss: 0.0530 - val_accuracy: 0.9890\n",
            "Epoch 19/30\n",
            "117/117 [==============================] - 11s 96ms/step - loss: 0.0321 - accuracy: 0.9946 - val_loss: 0.0965 - val_accuracy: 0.9690\n",
            "Epoch 20/30\n",
            "117/117 [==============================] - 11s 97ms/step - loss: 0.0306 - accuracy: 0.9949 - val_loss: 0.0412 - val_accuracy: 0.9880\n",
            "Epoch 21/30\n",
            "117/117 [==============================] - 11s 94ms/step - loss: 0.0212 - accuracy: 0.9969 - val_loss: 0.0391 - val_accuracy: 0.9910\n",
            "Epoch 22/30\n",
            "117/117 [==============================] - 11s 94ms/step - loss: 0.0171 - accuracy: 0.9975 - val_loss: 0.0339 - val_accuracy: 0.9930\n",
            "Epoch 23/30\n",
            "117/117 [==============================] - 11s 96ms/step - loss: 0.0149 - accuracy: 0.9973 - val_loss: 0.0292 - val_accuracy: 0.9930\n",
            "Epoch 24/30\n",
            "117/117 [==============================] - 11s 97ms/step - loss: 0.0140 - accuracy: 0.9972 - val_loss: 0.0307 - val_accuracy: 0.9940\n",
            "Epoch 25/30\n",
            "117/117 [==============================] - 12s 99ms/step - loss: 0.0118 - accuracy: 0.9979 - val_loss: 0.0277 - val_accuracy: 0.9930\n",
            "Epoch 26/30\n",
            "117/117 [==============================] - 13s 109ms/step - loss: 0.0108 - accuracy: 0.9983 - val_loss: 0.0270 - val_accuracy: 0.9940\n",
            "Epoch 27/30\n",
            "117/117 [==============================] - 11s 96ms/step - loss: 0.0102 - accuracy: 0.9981 - val_loss: 0.0250 - val_accuracy: 0.9940\n",
            "Epoch 28/30\n",
            "117/117 [==============================] - 12s 99ms/step - loss: 0.0095 - accuracy: 0.9984 - val_loss: 0.0252 - val_accuracy: 0.9940\n",
            "Epoch 29/30\n",
            "117/117 [==============================] - 11s 98ms/step - loss: 0.0089 - accuracy: 0.9984 - val_loss: 0.0255 - val_accuracy: 0.9940\n",
            "Epoch 30/30\n",
            "117/117 [==============================] - 11s 96ms/step - loss: 0.0084 - accuracy: 0.9984 - val_loss: 0.0232 - val_accuracy: 0.9940\n"
          ]
        }
      ],
      "source": [
        "# Training the conv_LSTM_model model\n",
        "conv_LSTM_model_history = conv_LSTM_model.fit(x_train_1d, y_train, epochs=30, batch_size=64, validation_data=(x_valid_1d, y_valid))\n"
      ]
    },
    {
      "cell_type": "code",
      "execution_count": null,
      "metadata": {
        "colab": {
          "base_uri": "https://localhost:8080/",
          "height": 455
        },
        "id": "XWiVcWxk4_0_",
        "outputId": "e4d0e0a2-3a65-41c4-d4df-a04e2b44cb9e"
      },
      "outputs": [
        {
          "data": {
            "image/png": "[encoded data removed]",
            "text/plain": [
              "<Figure size 640x480 with 1 Axes>"
            ]
          },
          "metadata": {},
          "output_type": "display_data"
        }
      ],
      "source": [
        "# Plotting\n",
        "plt.plot(conv_LSTM_model_history.history['accuracy'], label='accuracy')\n",
        "plt.plot(conv_LSTM_model_history.history['val_accuracy'], label = 'val_accuracy')\n",
        "plt.xlabel('Epoch')\n",
        "plt.ylabel('Accuracy')\n",
        "plt.ylim([0, 1])\n",
        "plt.legend(loc='lower right')\n",
        "plt.show()\n",
        "\n"
      ]
    },
    {
      "cell_type": "code",
      "execution_count": null,
      "metadata": {
        "colab": {
          "base_uri": "https://localhost:8080/"
        },
        "id": "mqFEYmFm4_1A",
        "outputId": "70ad7da7-7ebb-41b2-e884-59439a7dc6c4"
      },
      "outputs": [
        {
          "name": "stdout",
          "output_type": "stream",
          "text": [
            "Test accuracy of conv_LSTM_model: 0.46726861596107483\n"
          ]
        }
      ],
      "source": [
        "from re import L\n",
        "# Evaluate the conv_LSTM_model on the test set\n",
        "conv_LSTM_model_score = conv_LSTM_model.evaluate(x_test_1d, y_test, verbose=0)\n",
        "print('Test accuracy of conv_LSTM_model:',conv_LSTM_model_score[1])\n"
      ]
    }
  ],
  "metadata": {
    "accelerator": "GPU",
    "colab": {
      "gpuType": "T4",
      "provenance": []
    },
    "kernelspec": {
      "display_name": "Python 3",
      "name": "python3"
    },
    "language_info": {
      "codemirror_mode": {
        "name": "ipython",
        "version": 3
      },
      "file_extension": ".py",
      "mimetype": "text/x-python",
      "name": "python",
      "nbconvert_exporter": "python",
      "pygments_lexer": "ipython3",
      "version": "3.12.0"
    }
  },
  "nbformat": 4,
  "nbformat_minor": 0
}